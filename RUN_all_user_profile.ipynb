{
 "cells": [
  {
   "cell_type": "code",
   "execution_count": 2,
   "metadata": {
    "collapsed": true
   },
   "outputs": [],
   "source": [
    "day = '2018-04-12'\n",
    "format_day = day.replace('-','')\n",
    "year = format_day[0:4]\n",
    "month = format_day[4:6]\n",
    "day = format_day[6:8]\n",
    "yesterday = '2018-04-11'\n",
    "topic_month = format_day[0:6]\n",
    "click_path = 'hdfs://hz-cluster3/user/streams/datastore/original/datacenter_sdk_explore_etl/%s/%s/%s/*/*' %(year,month,day)\n",
    "today_topic_path = '/user/datacenter/data/headline_ctr/doc_extract4/month=%s/day=%s/*/*.gz,/user/datacenter/data/openplat_ctr/doc_extract/month=%s/day=%s/*/*.gz' %(topic_month,format_day,topic_month,format_day)\n",
    "old_topic_path = '/user/datacenter/linguangjie/user-profile-history/headline_topic_backup/' + format_day\n",
    "old_profile_path = 'hdfs://hz-cluster3/user/datacenter/linguangjie/user-profile-history/all-user-profile/%s/*' %(yesterday).replace('-','')\n"
   ]
  },
  {
   "cell_type": "markdown",
   "metadata": {},
   "source": [
    "# step 1 prepare doc topic and video topic"
   ]
  },
  {
   "cell_type": "code",
   "execution_count": 3,
   "metadata": {
    "collapsed": true
   },
   "outputs": [],
   "source": [
    "old_topic_line =  sc.textFile(old_topic_path, 100)"
   ]
  },
  {
   "cell_type": "code",
   "execution_count": 5,
   "metadata": {},
   "outputs": [
    {
     "data": {
      "text/plain": [
       "3196372"
      ]
     },
     "execution_count": 5,
     "metadata": {},
     "output_type": "execute_result"
    }
   ],
   "source": [
    "old_topic_line.count()"
   ]
  },
  {
   "cell_type": "code",
   "execution_count": 12,
   "metadata": {
    "collapsed": true
   },
   "outputs": [],
   "source": [
    "old_topic = old_topic_line.sample(False, 0.01).map(eval)"
   ]
  },
  {
   "cell_type": "code",
   "execution_count": 13,
   "metadata": {
    "scrolled": true
   },
   "outputs": [
    {
     "data": {
      "text/plain": [
       "31864"
      ]
     },
     "execution_count": 13,
     "metadata": {},
     "output_type": "execute_result"
    }
   ],
   "source": [
    "old_topic.count()"
   ]
  },
  {
   "cell_type": "code",
   "execution_count": 14,
   "metadata": {},
   "outputs": [
    {
     "data": {
      "text/plain": [
       "{u'TAGS': u'\\u89c6\\u9891',\n",
       " u'boardid': u'video_bbs',\n",
       " u'bodySegObj': [],\n",
       " u'category': u'\\u5386\\u53f2/\\u53e4\\u4ee3\\u53f2',\n",
       " u'category_v3': u'\\u5386\\u53f2/\\u53e4\\u4ee3\\u53f2',\n",
       " u'commentid': u'NA56SULO050835RB',\n",
       " u'continousplay': 0,\n",
       " u'create_time': u'',\n",
       " u'data_source': u'bjrec',\n",
       " u'description': u'\\u4e2d\\u56fd\\u5386\\u53f2\\u4e0a\\u7684\\u56db\\u4e2a\\u519b\\u4e8b\\u5929\\u624d\\uff0c\\u4ece\\u6ca1\\u8d25\\u8fc7\\uff0c\\u5374\\u90fd\\u4e0d\\u5f97\\u5584\\u7ec8\\uff01',\n",
       " u'detail_category_list': u'\\u5386\\u53f2_\\u53e4\\u4ee3\\u53f2_NA_\\u4e2d\\u56fd\\u5386\\u53f2,\\u519b\\u4e8b_\\u519b\\u60c5_NA_\\u519b\\u4e8b',\n",
       " u'digest': u'\\u4e2d\\u56fd\\u5386\\u53f2\\u4e0a\\u7684\\u56db\\u4e2a\\u519b\\u4e8b\\u5929\\u624d\\uff0c\\u4ece\\u6ca1\\u8d25\\u8fc7\\uff0c\\u5374\\u90fd\\u4e0d\\u5f97\\u5584\\u7ec8\\uff01',\n",
       " u'dkeys': u'\\u5434\\u8d77 \\u5218\\u90a6 \\u767d\\u8d77 \\u97e9\\u4fe1',\n",
       " u'doc_byte_count': 0,\n",
       " u'doc_char_count': 0,\n",
       " u'doc_segment': [],\n",
       " u'doc_word_count': 0,\n",
       " u'docid': u'VNA56SULO',\n",
       " u'end_time': u'',\n",
       " u'expireTime': u'2018-08-19 09:10:29',\n",
       " u'expireTime2': u'2018-08-19 09:10:29',\n",
       " u'imgType': 0,\n",
       " u'img_embedding': u'[-0.0,-0.0,0.0,-0.0,-1.0,-1.0,-1.0,0.0,1.0,-1.0,1.0,1.0,0.0,0.0,-1.0,-0.0,-1.0,-1.0,1.0,-1.0,-1.0,1.0,0.0,1.0,0.0,-0.0,-0.99512,0.99957,-1.0,0.99411,-0.93471,0.0,0.18799,-1.0,-0.0,-1.0,0.0,0.0,0.0,-0.0396,-0.0,1.0,1.0,1.0,-1.0,1.0,0.0,0.0,-1.0,1.0,1.0,1.0,-1.0,0.0,0.0,0.0,1.0,-1.0,1.0,1.0,-0.0,1.0,-0.0,0.0,1.0,-0.0,0.0,0.0,-5.0E-5,-0.0,-1.0,1.0,1.0,1.1E-4,-0.0,-0.0,0.0,-0.0,0.0,-0.01753,0.0,1.0,-0.0,1.0,-1.0,0.0,1.0,0.0,-2.0E-5,1.0,0.0,-1.0,0.0,0.0,-1.0,0.0,1.0,0.0,0.0,3.0E-5,1.0,0.29285,0.0,-1.0,-1.0,-0.0,-0.0,1.0,0.0,1.0,0.99998,1.0,-1.0,0.0,1.0,1.0,1.0,1.0,-0.99824,-0.99997,1.0,-1.0,0.0,-0.0,-0.0,-1.0,0.0,0.0,0.0,0.0,-0.0,0.0,1.0,1.0,1.0,-1.0,-0.99968,0.0,-0.0,0.0,0.99868,0.12806,-0.0,0.0,1.0,-0.0,0.98122,-0.0,-1.0,-0.0,-0.0,0.0,1.0,0.0,-0.01642,-1.0,1.0,-1.0,0.0,0.0,-0.0,-1.0,1.0,0.0,-0.0,-0.33498,-1.0,0.0,0.78968,-0.0,1.0,1.0,0.0,-0.0,0.98797,0.0,0.0,-1.0,2.0E-5,1.0E-5,1.0,-1.0,0.45281,1.0,0.0,-1.0,0.0,1.0,-0.0,-1.0,1.0,1.0,-0.0,-1.0,-1.0,-0.0,-1.0,1.0,-1.0,0.0,-0.0,-1.0,0.0,0.82442,0.0,1.0,-0.0,-1.0,-0.98775,0.0,-0.0,0.0,1.0,1.0,0.0,0.0,1.0,1.0,1.0,0.0,0.0,-0.0,1.0,-1.0,-1.0,-1.0,0.32741,-1.0,1.0,0.0,1.0,0.0,0.0,0.0,0.0,-0.00106,0.0,0.95258,-1.0,0.0,0.0,0.0,0.0,1.0,1.0,0.0,0.0,-0.18479,1.0,1.0,1.0,0.9987,1.0,1.0,0.0,-1.0,-1.0,1.0,-0.00394,1.0,0.0,1.0,-0.0,-0.0,0.0,0.0,0.0,1.0,0.0,-0.0,-0.651,0.0,-0.27784,0.0,0.0,-0.01476,1.0,0.98179,0.0,-1.0,-0.0,0.0,-0.99996,1.0,0.0,0.0,-1.0,-0.0,0.0,-1.0,-2.0E-5,1.0,-1.0,-1.0,1.0,0.0,0.0,-3.0E-5,1.0,0.0,0.0,-1.0E-5,0.0,0.0,0.0,1.0,-1.0,1.0,1.0,-0.0,-1.0,1.0,0.0,1.0,0.0,-1.0,0.99973,0.029,-1.0,1.0,1.0,0.0,-1.0,-0.0,-0.0,0.0,1.0,-0.0,-0.0,1.0,0.0,-0.0,1.0,0.0,0.0,0.0,1.0,1.0,1.0,-1.0,0.0,-0.85484,0.98017,1.0,1.0,0.0,1.0,0.0,1.0,0.0,1.0,-1.0,0.0,-1.0,-1.0,0.0,1.0,0.0,-0.0,0.0,-0.0,-0.99888,3.0E-5,0.0,-0.0,-0.0,1.0,0.0,3.2E-4,-1.0,-1.0,0.0,-1.0,-1.0,-1.0,1.0,0.0,-1.0,-0.01265,1.0,1.0,1.0,-0.0,1.0,1.0,-0.0,0.0,-1.0,-0.0,1.0,0.0,0.0,0.0,-1.0,0.0,-1.0,0.0,0.0,0.0,0.0,0.0,0.0,-0.0,0.0,1.0,0.0,1.0,-1.0,0.0,1.0,-0.00485,-0.0,-1.0,-1.0,-1.0,-0.99997,0.5822,0.0,-1.0,-1.0,-0.78653,1.0,-1.0,0.0,0.28935,1.0,0.7604,0.90783,2.0E-5,-1.0,0.99994,0.0,-1.0,0.0,-0.0,-1.0,-1.0,-1.0,0.0,-1.0,-0.0,-1.0,-0.0,0.0,-1.0,-0.0,1.0,0.0,0.0,-4.1E-4,0.0,1.0,-1.0,1.0,0.0,1.0,-1.0,0.0,0.0,-0.0,1.0,1.0,0.0,1.0,-0.97998,1.0,-1.0,1.0,-1.0,-1.0,-0.0,0.0,0.0,-0.0,1.0,-0.0,0.0,0.0,-1.0,0.0,-1.0,0.0,0.0,-1.0,-1.0,-0.0,1.0,-1.0,-0.0,1.0,-1.0,-0.0,-0.0,-0.0,-0.0,-1.0,-0.95641,-0.0,0.0,1.0,0.0,-0.0,1.0,0.0,0.0,-1.0,0.0,0.0,-1.0,0.0,1.0,-1.0,-0.0,-0.0,0.0,-0.0,-0.76159,-0.0,-0.0,0.0,0.0,-0.76159,0.0,0.0,0.0,0.0,-0.0,-0.0,-0.76159,-0.76159,0.0,-0.0,-0.76159,0.76159,0.0,0.76159,0.0,-0.0,-0.0,0.0,-0.76159,0.0,-0.0,0.0,0.18581,-0.0,-0.0,-0.0,0.0,0.0,0.0,-0.0,-0.0,0.76159,0.76159,0.0,-0.0,0.76159,0.0,0.0,-0.0,0.76159,0.76159,0.0,-0.76159,0.0,0.0,0.0,0.76159,-0.76159,0.76159,0.76159,-0.0,0.0,-0.0,0.0,0.0,-0.0,0.0,0.0,-0.0,-0.0,-0.76159,0.0,0.0,1.1E-4,-0.0,-0.0,0.0,-0.0,0.0,-0.0,0.0,0.0,-0.0,0.0,-0.76159,0.0,0.00608,0.0,-2.0E-5,0.76159,0.0,-0.76159,0.0,0.0,-0.76159,0.0,0.76159,0.0,0.0,0.0,0.0,0.28476,0.0,-0.76159,-0.0,-0.0,-0.0,0.0,0.0,0.76159,0.76159,0.76159,-0.76159,0.0,0.76159,0.0,0.0,0.76159,-0.0,-0.0,0.0,-0.0,0.0,-0.0,-0.0,-0.76159,0.0,0.0,0.0,0.0,-0.0,0.0,0.00916,0.76159,1.0E-5,-0.0,-0.0,0.0,-0.0,0.0,0.76104,0.0,-0.0,0.0,0.76159,-0.0,0.0,-0.0,-0.0,-0.0,-0.0,0.0,0.0,0.0,-0.0,-0.74399,0.76159,-0.76159,0.0,0.0,-0.0,-0.0,0.0,0.0,-0.0,-0.0,-0.0,0.0,0.65823,-0.0,0.76159,0.76159,0.0,-0.0,0.0,0.0,0.0,-0.0,0.0,0.0,0.0,-0.76159,0.0,0.0,0.0,-0.76159,0.0,0.0,-0.0,-0.76159,0.76159,0.76159,-0.0,-0.0,-7.0E-5,-0.0,-0.0,0.0,-0.0,0.0,-0.0,-0.0,0.0,0.0,0.0,0.0,-0.0,-0.0,-0.0,0.0,-0.0,0.0,0.76159,0.0,0.0,0.0,0.76159,0.76159,0.0,0.0,0.0,-0.0,0.76159,-0.76159,-0.0,-0.76159,0.31619,-0.76159,0.0,0.0,0.0,0.0,0.0,0.0,0.0,-0.00106,0.0,0.0,-0.0,0.0,0.0,0.0,0.0,0.0,0.76159,0.0,0.0,-0.18272,0.76159,0.0,0.0,0.0,1.1E-4,0.0,0.0,-0.0,-0.0,0.0,-0.00394,0.76159,0.0,0.76159,-0.0,-0.0,0.0,0.0,0.0,0.76159,0.0,-0.0,-0.0,0.0,-0.0,0.0,0.0,-0.0,0.76159,0.0,0.0,-0.0,-0.0,0.0,-0.0,0.76159,0.0,0.0,-0.0,-0.0,0.0,-0.76159,-2.0E-5,0.75973,-0.0,-0.0,0.76159,0.0,0.0,-0.0,0.76159,0.0,0.0,-0.0,0.0,0.0,0.0,0.76159,-0.0,0.76159,0.76159,-0.0,-0.76159,0.0,0.0,0.0,0.0,-0.76159,0.0,0.02899,-0.0,0.00809,0.76159,0.0,-0.0,-0.0,-0.0,0.0,0.0,-0.0,-0.0,0.0,0.0,-0.0,0.0,0.0,0.0,0.0,0.76159,0.76159,0.76159,-0.0,0.0,-0.0,0.0,0.01144,0.0,0.0,0.76159,0.0,0.0,0.0,0.76159,-0.76159,0.0,-0.76156,-0.0,0.0,0.76159,0.0,-0.0,0.0,-0.0,-0.76112,3.0E-5,0.0,-0.0,-0.0,0.76159,0.0,3.2E-4,-0.0,-0.0,0.0,-0.0,-0.0,-0.76159,0.0,0.0,-0.76139,-0.01265,0.76159,0.0,0.0,-0.0,0.76159,0.76159,-0.0,0.0,-0.76139,-0.0,0.76159,0.0,0.0,0.0,-0.76159,0.0,-0.76159,0.0,0.0,0.0,0.0,0.0,0.0,-0.0,0.0,0.00101,0.0,0.76159,-0.76159,0.0,0.76159,-0.00485,-0.0,-0.76159,-0.0,-0.76159,-0.76158,0.0,0.0,-0.0,-0.76159,-0.0,0.0,-0.76159,0.0,0.0,0.76159,9.0E-5,6.0E-5,0.0,-0.0,0.76105,0.0,-0.0,0.0,-0.0,-0.0,-0.0,-0.76159,0.0,-0.76159,-0.0,-0.0,-0.0,0.0,-0.76159,-0.0,0.76159,0.0,0.0,-3.9E-4,0.0,0.0,-0.0,0.0,0.0,0.76159,-0.76159,0.0,0.0,-0.0,0.76159,0.0,0.0,0.76159,-0.0,0.0,-0.0,0.76154,-0.76159,-0.76159,-0.0,0.0,0.0,-0.0,0.76159,-0.0,0.0,0.0,-0.0,0.0,-0.0,0.0,0.0,-0.0,-0.76159,-0.0,0.0,-0.76159,-0.0,0.76159,-0.0,-0.0,-0.0,-0.0,-0.0,-0.0,-0.74267,-0.0,0.0,0.76159,0.0,-0.0,0.76159,0.0,0.0,-0.0,0.0,0.0,-0.0,0.0,0.0,-0.0]',\n",
       " u'imgsrc': u'http://vimg.nosdn.127.net/snapshot/20180220/KGPB89010_0.jpg',\n",
       " u'interests': u'\\u519b\\u4e8b_\\u5386\\u53f2\\u519b\\u4e8b,\\u5386\\u53f2_\\u4e16\\u754c\\u53f2',\n",
       " u'is_headline_video': 0,\n",
       " u'is_santu': 0,\n",
       " u'kb_extension': u'',\n",
       " u'kw': [{u'__isset_bitfield': 6,\n",
       "   u'clk': 0,\n",
       "   u'label_id': 0,\n",
       "   u'label_score': 0.089874,\n",
       "   u'label_type': u'KW',\n",
       "   u'label_word': u'\\u519b\\u4e8b',\n",
       "   u'level_id': 0,\n",
       "   u'match_num': 0,\n",
       "   u'show': 1}],\n",
       " u'kwList': [{u'__isset_bitfield': 6,\n",
       "   u'clk': 0,\n",
       "   u'label_id': 0,\n",
       "   u'label_score': 0.089874,\n",
       "   u'label_type': u'KW',\n",
       "   u'label_word': u'\\u519b\\u4e8b',\n",
       "   u'level_id': 0,\n",
       "   u'match_num': 0,\n",
       "   u'show': 1}],\n",
       " u'labelMap': {u'FST_CLUSTERING': [{u'__isset_bitfield': 3,\n",
       "    u'clk': 0,\n",
       "    u'label_id': -1,\n",
       "    u'label_score': -1.0,\n",
       "    u'label_type': u'FST_CLUSTERING',\n",
       "    u'level_id': 0,\n",
       "    u'match_num': 0,\n",
       "    u'show': 0}],\n",
       "  u'KW': [{u'__isset_bitfield': 6,\n",
       "    u'clk': 0,\n",
       "    u'label_id': 0,\n",
       "    u'label_score': 0.089874,\n",
       "    u'label_type': u'KW',\n",
       "    u'label_word': u'\\u519b\\u4e8b',\n",
       "    u'level_id': 0,\n",
       "    u'match_num': 0,\n",
       "    u'show': 1}],\n",
       "  u'TITLE_KW': [{u'__isset_bitfield': 6,\n",
       "    u'clk': 0,\n",
       "    u'label_id': 0,\n",
       "    u'label_score': 0.089874,\n",
       "    u'label_type': u'TITLE_KW',\n",
       "    u'label_word': u'\\u519b\\u4e8b',\n",
       "    u'level_id': 0,\n",
       "    u'match_num': 0,\n",
       "    u'show': 1}],\n",
       "  u'TITLE_SEGMENT': [{u'__isset_bitfield': 0,\n",
       "    u'clk': 0,\n",
       "    u'label_id': 0,\n",
       "    u'label_score': 0.0,\n",
       "    u'label_type': u'TITLE_SEGMENT',\n",
       "    u'label_word': u'\\u4e2d\\u56fd',\n",
       "    u'level_id': 0,\n",
       "    u'match_num': 0,\n",
       "    u'show': 0},\n",
       "   {u'__isset_bitfield': 0,\n",
       "    u'clk': 0,\n",
       "    u'label_id': 0,\n",
       "    u'label_score': 0.0,\n",
       "    u'label_type': u'TITLE_SEGMENT',\n",
       "    u'label_word': u'\\u5386\\u53f2',\n",
       "    u'level_id': 0,\n",
       "    u'match_num': 0,\n",
       "    u'show': 0},\n",
       "   {u'__isset_bitfield': 0,\n",
       "    u'clk': 0,\n",
       "    u'label_id': 0,\n",
       "    u'label_score': 0.0,\n",
       "    u'label_type': u'TITLE_SEGMENT',\n",
       "    u'label_word': u'\\u56db\\u4e2a',\n",
       "    u'level_id': 0,\n",
       "    u'match_num': 0,\n",
       "    u'show': 0},\n",
       "   {u'__isset_bitfield': 0,\n",
       "    u'clk': 0,\n",
       "    u'label_id': 0,\n",
       "    u'label_score': 0.0,\n",
       "    u'label_type': u'TITLE_SEGMENT',\n",
       "    u'label_word': u'\\u519b\\u4e8b',\n",
       "    u'level_id': 0,\n",
       "    u'match_num': 0,\n",
       "    u'show': 0},\n",
       "   {u'__isset_bitfield': 0,\n",
       "    u'clk': 0,\n",
       "    u'label_id': 0,\n",
       "    u'label_score': 0.0,\n",
       "    u'label_type': u'TITLE_SEGMENT',\n",
       "    u'label_word': u'\\u5929\\u624d',\n",
       "    u'level_id': 0,\n",
       "    u'match_num': 0,\n",
       "    u'show': 0},\n",
       "   {u'__isset_bitfield': 0,\n",
       "    u'clk': 0,\n",
       "    u'label_id': 0,\n",
       "    u'label_score': 0.0,\n",
       "    u'label_type': u'TITLE_SEGMENT',\n",
       "    u'label_word': u'\\u4ece\\u6ca1',\n",
       "    u'level_id': 0,\n",
       "    u'match_num': 0,\n",
       "    u'show': 0},\n",
       "   {u'__isset_bitfield': 0,\n",
       "    u'clk': 0,\n",
       "    u'label_id': 0,\n",
       "    u'label_score': 0.0,\n",
       "    u'label_type': u'TITLE_SEGMENT',\n",
       "    u'label_word': u'\\u4e0d\\u5f97\\u5584\\u7ec8',\n",
       "    u'level_id': 0,\n",
       "    u'match_num': 0,\n",
       "    u'show': 0}],\n",
       "  u'W2V_CLUSTERING': [{u'__isset_bitfield': 19,\n",
       "    u'clk': 0,\n",
       "    u'label_id': 75636394,\n",
       "    u'label_score': 0.562322,\n",
       "    u'label_type': u'W2V_CLUSTERING',\n",
       "    u'level_id': 219283456,\n",
       "    u'match_num': 0,\n",
       "    u'show': 0}]},\n",
       " u'lmodify': u'2018-02-20 09:10:29',\n",
       " u'localcity': False,\n",
       " u'm3u8SdUrl': u'http://flv.bn.netease.com/videolib3/1802/20/KWFpr9010/SD/movie_index.m3u8',\n",
       " u'mp4SdUrl': u'http://flv3.bn.netease.com/videolib3/1802/20/KWFpr9010/SD/KWFpr9010-mobile.mp4',\n",
       " u'origion': u'',\n",
       " u'playCount': 0,\n",
       " u'playersize': 1,\n",
       " u'playlength': 91,\n",
       " u'ptime': u'2018-02-20 09:10:30',\n",
       " u'publisher': u'',\n",
       " u'sansu_score': 0,\n",
       " u'sectiondescription': u'2017\\u8ba9\\u6211\\u4eec\\u5728\\u8fd9\\u4e2a\\u5e73\\u53f0\\u4e0a\\u4e00\\u5757\\u5206\\u4eab\\u5386\\u53f2\\u6545\\u4e8b\\uff0c\\u8fd8\\u8981\\u8bb8\\u591a\\u4f60\\u4e0d\\u77e5\\u9053\\u7684\\u5386\\u53f2\\u8da3\\u4e8b\\u548c\\u5c0f\\u6545\\u4e8b\\u3002',\n",
       " u'sectionimg': u'http://vimg1.ws.126.net/image/snapshot/2017/11/T/K/VD392A3TK.jpg',\n",
       " u'sectionsid': u'VD392A3TG',\n",
       " u'sectiontitle': u'\\u4e03\\u6b65\\u6210\\u8bd7\\u767e\\u6b65\\u7a7f\\u6768',\n",
       " u'segSimHashObj': 0,\n",
       " u'singleurl': {u'height': 0,\n",
       "  u'url': u'http://vimg.nosdn.127.net/snapshot/20180220/KGPB89010_0.jpg',\n",
       "  u'width': 0},\n",
       " u'sizeHD': 0,\n",
       " u'sizeSD': 3958,\n",
       " u'sizeSHD': 0,\n",
       " u'skipID': u'VNA56SULO',\n",
       " u'skipType': u'video',\n",
       " u'source': u'\\u4e03\\u6b65\\u6210\\u8bd7\\u767e\\u6b65\\u7a7f\\u6768',\n",
       " u'source_type': 1,\n",
       " u'timeliness': u'',\n",
       " u'title': u'\\u4e2d\\u56fd\\u5386\\u53f2\\u4e0a\\u7684\\u56db\\u4e2a\\u519b\\u4e8b\\u5929\\u624d\\uff0c\\u4ece\\u6ca1\\u8d25\\u8fc7\\uff0c\\u5374\\u90fd\\u4e0d\\u5f97\\u5584\\u7ec8\\uff01',\n",
       " u'titleHash': -8542457669522045425,\n",
       " u'titleSegList': [u'\\u4e2d\\u56fd',\n",
       "  u'\\u5386\\u53f2',\n",
       "  u'\\u56db\\u4e2a',\n",
       "  u'\\u519b\\u4e8b',\n",
       "  u'\\u5929\\u624d',\n",
       "  u'\\u4ece\\u6ca1',\n",
       "  u'\\u4e0d\\u5f97\\u5584\\u7ec8'],\n",
       " u'title_byte_count': 75,\n",
       " u'title_char_count': 22,\n",
       " u'title_kw': [{u'__isset_bitfield': 6,\n",
       "   u'clk': 0,\n",
       "   u'label_id': 0,\n",
       "   u'label_score': 0.089874,\n",
       "   u'label_type': u'TITLE_KW',\n",
       "   u'label_word': u'\\u519b\\u4e8b',\n",
       "   u'level_id': 0,\n",
       "   u'match_num': 0,\n",
       "   u'show': 1}],\n",
       " u'title_kw_v2': [],\n",
       " u'title_segment': [{u'__isset_bitfield': 4,\n",
       "   u'clk': 0,\n",
       "   u'label_id': 0,\n",
       "   u'label_score': 0.0,\n",
       "   u'label_type': u'TITLE_SEGMENT',\n",
       "   u'label_word': u'\\u4e2d\\u56fd',\n",
       "   u'level_id': 0,\n",
       "   u'match_num': 0,\n",
       "   u'show': 1},\n",
       "  {u'__isset_bitfield': 4,\n",
       "   u'clk': 0,\n",
       "   u'label_id': 0,\n",
       "   u'label_score': 0.0,\n",
       "   u'label_type': u'TITLE_SEGMENT',\n",
       "   u'label_word': u'\\u5386\\u53f2',\n",
       "   u'level_id': 0,\n",
       "   u'match_num': 0,\n",
       "   u'show': 1},\n",
       "  {u'__isset_bitfield': 4,\n",
       "   u'clk': 0,\n",
       "   u'label_id': 0,\n",
       "   u'label_score': 0.0,\n",
       "   u'label_type': u'TITLE_SEGMENT',\n",
       "   u'label_word': u'\\u56db\\u4e2a',\n",
       "   u'level_id': 0,\n",
       "   u'match_num': 0,\n",
       "   u'show': 1},\n",
       "  {u'__isset_bitfield': 4,\n",
       "   u'clk': 0,\n",
       "   u'label_id': 0,\n",
       "   u'label_score': 0.0,\n",
       "   u'label_type': u'TITLE_SEGMENT',\n",
       "   u'label_word': u'\\u519b\\u4e8b',\n",
       "   u'level_id': 0,\n",
       "   u'match_num': 0,\n",
       "   u'show': 1},\n",
       "  {u'__isset_bitfield': 4,\n",
       "   u'clk': 0,\n",
       "   u'label_id': 0,\n",
       "   u'label_score': 0.0,\n",
       "   u'label_type': u'TITLE_SEGMENT',\n",
       "   u'label_word': u'\\u5929\\u624d',\n",
       "   u'level_id': 0,\n",
       "   u'match_num': 0,\n",
       "   u'show': 1},\n",
       "  {u'__isset_bitfield': 4,\n",
       "   u'clk': 0,\n",
       "   u'label_id': 0,\n",
       "   u'label_score': 0.0,\n",
       "   u'label_type': u'TITLE_SEGMENT',\n",
       "   u'label_word': u'\\u4ece\\u6ca1',\n",
       "   u'level_id': 0,\n",
       "   u'match_num': 0,\n",
       "   u'show': 1},\n",
       "  {u'__isset_bitfield': 4,\n",
       "   u'clk': 0,\n",
       "   u'label_id': 0,\n",
       "   u'label_score': 0.0,\n",
       "   u'label_type': u'TITLE_SEGMENT',\n",
       "   u'label_word': u'\\u4e0d\\u5f97\\u5584\\u7ec8',\n",
       "   u'level_id': 0,\n",
       "   u'match_num': 0,\n",
       "   u'show': 1}],\n",
       " u'title_word_count': 7,\n",
       " u'titlekwHash': 4442495161280633804,\n",
       " u'titlekwList': [{u'__isset_bitfield': 6,\n",
       "   u'clk': 0,\n",
       "   u'label_id': 0,\n",
       "   u'label_score': 0.089874,\n",
       "   u'label_type': u'TITLE_KW',\n",
       "   u'label_word': u'\\u519b\\u4e8b',\n",
       "   u'level_id': 0,\n",
       "   u'match_num': 0,\n",
       "   u'show': 1}],\n",
       " u'topic_w2v': [{u'__isset_bitfield': 19,\n",
       "   u'clk': 0,\n",
       "   u'label_id': 75636394,\n",
       "   u'label_score': 0.562322,\n",
       "   u'label_type': u'W2V_CLUSTERING',\n",
       "   u'level_id': 219283456,\n",
       "   u'match_num': 0,\n",
       "   u'show': 0}],\n",
       " u'vid': u'VNA56SULO',\n",
       " u'video_origin': u''}"
      ]
     },
     "execution_count": 14,
     "metadata": {},
     "output_type": "execute_result"
    }
   ],
   "source": [
    "old_topic.first()"
   ]
  },
  {
   "cell_type": "code",
   "execution_count": null,
   "metadata": {
    "collapsed": true
   },
   "outputs": [],
   "source": []
  },
  {
   "cell_type": "code",
   "execution_count": null,
   "metadata": {
    "collapsed": true
   },
   "outputs": [],
   "source": [
    "def is_doc():\n",
    "    "
   ]
  },
  {
   "cell_type": "code",
   "execution_count": 17,
   "metadata": {
    "collapsed": true
   },
   "outputs": [],
   "source": [
    "def filter_doc_feature(line):\n",
    "    docid = ''\n",
    "    topic_json = eval(str(line))\n",
    "    if 'docid' in topic_json and len(topic_json['docid']) == 16 and topic_json['docid'][8:12].isdigit():\n",
    "        docid = topic_json['docid'].encode('utf-8')\n",
    "        yield (docid, topic_json)\n",
    "    if 'docid' in topic_json and topic_json['docid'].startswith('V'):\n",
    "        docid = topic_json['docid'].encode('utf-8')\n",
    "        yield (docid, topic_json)"
   ]
  },
  {
   "cell_type": "code",
   "execution_count": 18,
   "metadata": {
    "collapsed": true
   },
   "outputs": [],
   "source": [
    "all_topic_data = old_topic_line.flatMap(filter_doc_feature)"
   ]
  },
  {
   "cell_type": "code",
   "execution_count": 19,
   "metadata": {
    "scrolled": true
   },
   "outputs": [
    {
     "ename": "KeyboardInterrupt",
     "evalue": "",
     "output_type": "error",
     "traceback": [
      "\u001b[0;31m---------------------------------------------------------------------------\u001b[0m",
      "\u001b[0;31mKeyboardInterrupt\u001b[0m                         Traceback (most recent call last)",
      "\u001b[0;32m<ipython-input-19-ac5ae5986b49>\u001b[0m in \u001b[0;36m<module>\u001b[0;34m()\u001b[0m\n\u001b[0;32m----> 1\u001b[0;31m \u001b[0mall_topic_data\u001b[0m\u001b[0;34m.\u001b[0m\u001b[0mcount\u001b[0m\u001b[0;34m(\u001b[0m\u001b[0;34m)\u001b[0m\u001b[0;34m\u001b[0m\u001b[0m\n\u001b[0m",
      "\u001b[0;32m/home/appops/spark-1.6.1-bin-hadoop2.6/python/pyspark/rdd.pyc\u001b[0m in \u001b[0;36mcount\u001b[0;34m(self)\u001b[0m\n\u001b[1;32m   1002\u001b[0m         \u001b[0;36m3\u001b[0m\u001b[0;34m\u001b[0m\u001b[0m\n\u001b[1;32m   1003\u001b[0m         \"\"\"\n\u001b[0;32m-> 1004\u001b[0;31m         \u001b[0;32mreturn\u001b[0m \u001b[0mself\u001b[0m\u001b[0;34m.\u001b[0m\u001b[0mmapPartitions\u001b[0m\u001b[0;34m(\u001b[0m\u001b[0;32mlambda\u001b[0m \u001b[0mi\u001b[0m\u001b[0;34m:\u001b[0m \u001b[0;34m[\u001b[0m\u001b[0msum\u001b[0m\u001b[0;34m(\u001b[0m\u001b[0;36m1\u001b[0m \u001b[0;32mfor\u001b[0m \u001b[0m_\u001b[0m \u001b[0;32min\u001b[0m \u001b[0mi\u001b[0m\u001b[0;34m)\u001b[0m\u001b[0;34m]\u001b[0m\u001b[0;34m)\u001b[0m\u001b[0;34m.\u001b[0m\u001b[0msum\u001b[0m\u001b[0;34m(\u001b[0m\u001b[0;34m)\u001b[0m\u001b[0;34m\u001b[0m\u001b[0m\n\u001b[0m\u001b[1;32m   1005\u001b[0m \u001b[0;34m\u001b[0m\u001b[0m\n\u001b[1;32m   1006\u001b[0m     \u001b[0;32mdef\u001b[0m \u001b[0mstats\u001b[0m\u001b[0;34m(\u001b[0m\u001b[0mself\u001b[0m\u001b[0;34m)\u001b[0m\u001b[0;34m:\u001b[0m\u001b[0;34m\u001b[0m\u001b[0m\n",
      "\u001b[0;32m/home/appops/spark-1.6.1-bin-hadoop2.6/python/pyspark/rdd.pyc\u001b[0m in \u001b[0;36msum\u001b[0;34m(self)\u001b[0m\n\u001b[1;32m    993\u001b[0m         \u001b[0;36m6.0\u001b[0m\u001b[0;34m\u001b[0m\u001b[0m\n\u001b[1;32m    994\u001b[0m         \"\"\"\n\u001b[0;32m--> 995\u001b[0;31m         \u001b[0;32mreturn\u001b[0m \u001b[0mself\u001b[0m\u001b[0;34m.\u001b[0m\u001b[0mmapPartitions\u001b[0m\u001b[0;34m(\u001b[0m\u001b[0;32mlambda\u001b[0m \u001b[0mx\u001b[0m\u001b[0;34m:\u001b[0m \u001b[0;34m[\u001b[0m\u001b[0msum\u001b[0m\u001b[0;34m(\u001b[0m\u001b[0mx\u001b[0m\u001b[0;34m)\u001b[0m\u001b[0;34m]\u001b[0m\u001b[0;34m)\u001b[0m\u001b[0;34m.\u001b[0m\u001b[0mfold\u001b[0m\u001b[0;34m(\u001b[0m\u001b[0;36m0\u001b[0m\u001b[0;34m,\u001b[0m \u001b[0moperator\u001b[0m\u001b[0;34m.\u001b[0m\u001b[0madd\u001b[0m\u001b[0;34m)\u001b[0m\u001b[0;34m\u001b[0m\u001b[0m\n\u001b[0m\u001b[1;32m    996\u001b[0m \u001b[0;34m\u001b[0m\u001b[0m\n\u001b[1;32m    997\u001b[0m     \u001b[0;32mdef\u001b[0m \u001b[0mcount\u001b[0m\u001b[0;34m(\u001b[0m\u001b[0mself\u001b[0m\u001b[0;34m)\u001b[0m\u001b[0;34m:\u001b[0m\u001b[0;34m\u001b[0m\u001b[0m\n",
      "\u001b[0;32m/home/appops/spark-1.6.1-bin-hadoop2.6/python/pyspark/rdd.pyc\u001b[0m in \u001b[0;36mfold\u001b[0;34m(self, zeroValue, op)\u001b[0m\n\u001b[1;32m    867\u001b[0m         \u001b[0;31m# zeroValue provided to each partition is unique from the one provided\u001b[0m\u001b[0;34m\u001b[0m\u001b[0;34m\u001b[0m\u001b[0m\n\u001b[1;32m    868\u001b[0m         \u001b[0;31m# to the final reduce call\u001b[0m\u001b[0;34m\u001b[0m\u001b[0;34m\u001b[0m\u001b[0m\n\u001b[0;32m--> 869\u001b[0;31m         \u001b[0mvals\u001b[0m \u001b[0;34m=\u001b[0m \u001b[0mself\u001b[0m\u001b[0;34m.\u001b[0m\u001b[0mmapPartitions\u001b[0m\u001b[0;34m(\u001b[0m\u001b[0mfunc\u001b[0m\u001b[0;34m)\u001b[0m\u001b[0;34m.\u001b[0m\u001b[0mcollect\u001b[0m\u001b[0;34m(\u001b[0m\u001b[0;34m)\u001b[0m\u001b[0;34m\u001b[0m\u001b[0m\n\u001b[0m\u001b[1;32m    870\u001b[0m         \u001b[0;32mreturn\u001b[0m \u001b[0mreduce\u001b[0m\u001b[0;34m(\u001b[0m\u001b[0mop\u001b[0m\u001b[0;34m,\u001b[0m \u001b[0mvals\u001b[0m\u001b[0;34m,\u001b[0m \u001b[0mzeroValue\u001b[0m\u001b[0;34m)\u001b[0m\u001b[0;34m\u001b[0m\u001b[0m\n\u001b[1;32m    871\u001b[0m \u001b[0;34m\u001b[0m\u001b[0m\n",
      "\u001b[0;32m/home/appops/spark-1.6.1-bin-hadoop2.6/python/pyspark/rdd.pyc\u001b[0m in \u001b[0;36mcollect\u001b[0;34m(self)\u001b[0m\n\u001b[1;32m    769\u001b[0m         \"\"\"\n\u001b[1;32m    770\u001b[0m         \u001b[0;32mwith\u001b[0m \u001b[0mSCCallSiteSync\u001b[0m\u001b[0;34m(\u001b[0m\u001b[0mself\u001b[0m\u001b[0;34m.\u001b[0m\u001b[0mcontext\u001b[0m\u001b[0;34m)\u001b[0m \u001b[0;32mas\u001b[0m \u001b[0mcss\u001b[0m\u001b[0;34m:\u001b[0m\u001b[0;34m\u001b[0m\u001b[0m\n\u001b[0;32m--> 771\u001b[0;31m             \u001b[0mport\u001b[0m \u001b[0;34m=\u001b[0m \u001b[0mself\u001b[0m\u001b[0;34m.\u001b[0m\u001b[0mctx\u001b[0m\u001b[0;34m.\u001b[0m\u001b[0m_jvm\u001b[0m\u001b[0;34m.\u001b[0m\u001b[0mPythonRDD\u001b[0m\u001b[0;34m.\u001b[0m\u001b[0mcollectAndServe\u001b[0m\u001b[0;34m(\u001b[0m\u001b[0mself\u001b[0m\u001b[0;34m.\u001b[0m\u001b[0m_jrdd\u001b[0m\u001b[0;34m.\u001b[0m\u001b[0mrdd\u001b[0m\u001b[0;34m(\u001b[0m\u001b[0;34m)\u001b[0m\u001b[0;34m)\u001b[0m\u001b[0;34m\u001b[0m\u001b[0m\n\u001b[0m\u001b[1;32m    772\u001b[0m         \u001b[0;32mreturn\u001b[0m \u001b[0mlist\u001b[0m\u001b[0;34m(\u001b[0m\u001b[0m_load_from_socket\u001b[0m\u001b[0;34m(\u001b[0m\u001b[0mport\u001b[0m\u001b[0;34m,\u001b[0m \u001b[0mself\u001b[0m\u001b[0;34m.\u001b[0m\u001b[0m_jrdd_deserializer\u001b[0m\u001b[0;34m)\u001b[0m\u001b[0;34m)\u001b[0m\u001b[0;34m\u001b[0m\u001b[0m\n\u001b[1;32m    773\u001b[0m \u001b[0;34m\u001b[0m\u001b[0m\n",
      "\u001b[0;32m/home/appops/spark-1.6.1-bin-hadoop2.6/python/lib/py4j-0.9-src.zip/py4j/java_gateway.py\u001b[0m in \u001b[0;36m__call__\u001b[0;34m(self, *args)\u001b[0m\n\u001b[1;32m    809\u001b[0m             \u001b[0mproto\u001b[0m\u001b[0;34m.\u001b[0m\u001b[0mEND_COMMAND_PART\u001b[0m\u001b[0;34m\u001b[0m\u001b[0m\n\u001b[1;32m    810\u001b[0m \u001b[0;34m\u001b[0m\u001b[0m\n\u001b[0;32m--> 811\u001b[0;31m         \u001b[0manswer\u001b[0m \u001b[0;34m=\u001b[0m \u001b[0mself\u001b[0m\u001b[0;34m.\u001b[0m\u001b[0mgateway_client\u001b[0m\u001b[0;34m.\u001b[0m\u001b[0msend_command\u001b[0m\u001b[0;34m(\u001b[0m\u001b[0mcommand\u001b[0m\u001b[0;34m)\u001b[0m\u001b[0;34m\u001b[0m\u001b[0m\n\u001b[0m\u001b[1;32m    812\u001b[0m         return_value = get_return_value(\n\u001b[1;32m    813\u001b[0m             answer, self.gateway_client, self.target_id, self.name)\n",
      "\u001b[0;32m/home/appops/spark-1.6.1-bin-hadoop2.6/python/lib/py4j-0.9-src.zip/py4j/java_gateway.py\u001b[0m in \u001b[0;36msend_command\u001b[0;34m(self, command, retry)\u001b[0m\n\u001b[1;32m    624\u001b[0m         \u001b[0mconnection\u001b[0m \u001b[0;34m=\u001b[0m \u001b[0mself\u001b[0m\u001b[0;34m.\u001b[0m\u001b[0m_get_connection\u001b[0m\u001b[0;34m(\u001b[0m\u001b[0;34m)\u001b[0m\u001b[0;34m\u001b[0m\u001b[0m\n\u001b[1;32m    625\u001b[0m         \u001b[0;32mtry\u001b[0m\u001b[0;34m:\u001b[0m\u001b[0;34m\u001b[0m\u001b[0m\n\u001b[0;32m--> 626\u001b[0;31m             \u001b[0mresponse\u001b[0m \u001b[0;34m=\u001b[0m \u001b[0mconnection\u001b[0m\u001b[0;34m.\u001b[0m\u001b[0msend_command\u001b[0m\u001b[0;34m(\u001b[0m\u001b[0mcommand\u001b[0m\u001b[0;34m)\u001b[0m\u001b[0;34m\u001b[0m\u001b[0m\n\u001b[0m\u001b[1;32m    627\u001b[0m             \u001b[0mself\u001b[0m\u001b[0;34m.\u001b[0m\u001b[0m_give_back_connection\u001b[0m\u001b[0;34m(\u001b[0m\u001b[0mconnection\u001b[0m\u001b[0;34m)\u001b[0m\u001b[0;34m\u001b[0m\u001b[0m\n\u001b[1;32m    628\u001b[0m         \u001b[0;32mexcept\u001b[0m \u001b[0mPy4JNetworkError\u001b[0m\u001b[0;34m:\u001b[0m\u001b[0;34m\u001b[0m\u001b[0m\n",
      "\u001b[0;32m/home/appops/spark-1.6.1-bin-hadoop2.6/python/lib/py4j-0.9-src.zip/py4j/java_gateway.py\u001b[0m in \u001b[0;36msend_command\u001b[0;34m(self, command)\u001b[0m\n\u001b[1;32m    738\u001b[0m         \u001b[0;32mtry\u001b[0m\u001b[0;34m:\u001b[0m\u001b[0;34m\u001b[0m\u001b[0m\n\u001b[1;32m    739\u001b[0m             \u001b[0mself\u001b[0m\u001b[0;34m.\u001b[0m\u001b[0msocket\u001b[0m\u001b[0;34m.\u001b[0m\u001b[0msendall\u001b[0m\u001b[0;34m(\u001b[0m\u001b[0mcommand\u001b[0m\u001b[0;34m.\u001b[0m\u001b[0mencode\u001b[0m\u001b[0;34m(\u001b[0m\u001b[0;34m\"utf-8\"\u001b[0m\u001b[0;34m)\u001b[0m\u001b[0;34m)\u001b[0m\u001b[0;34m\u001b[0m\u001b[0m\n\u001b[0;32m--> 740\u001b[0;31m             \u001b[0manswer\u001b[0m \u001b[0;34m=\u001b[0m \u001b[0msmart_decode\u001b[0m\u001b[0;34m(\u001b[0m\u001b[0mself\u001b[0m\u001b[0;34m.\u001b[0m\u001b[0mstream\u001b[0m\u001b[0;34m.\u001b[0m\u001b[0mreadline\u001b[0m\u001b[0;34m(\u001b[0m\u001b[0;34m)\u001b[0m\u001b[0;34m[\u001b[0m\u001b[0;34m:\u001b[0m\u001b[0;34m-\u001b[0m\u001b[0;36m1\u001b[0m\u001b[0;34m]\u001b[0m\u001b[0;34m)\u001b[0m\u001b[0;34m\u001b[0m\u001b[0m\n\u001b[0m\u001b[1;32m    741\u001b[0m             \u001b[0mlogger\u001b[0m\u001b[0;34m.\u001b[0m\u001b[0mdebug\u001b[0m\u001b[0;34m(\u001b[0m\u001b[0;34m\"Answer received: {0}\"\u001b[0m\u001b[0;34m.\u001b[0m\u001b[0mformat\u001b[0m\u001b[0;34m(\u001b[0m\u001b[0manswer\u001b[0m\u001b[0;34m)\u001b[0m\u001b[0;34m)\u001b[0m\u001b[0;34m\u001b[0m\u001b[0m\n\u001b[1;32m    742\u001b[0m             \u001b[0;31m# Happens when a the other end is dead. There might be an empty\u001b[0m\u001b[0;34m\u001b[0m\u001b[0;34m\u001b[0m\u001b[0m\n",
      "\u001b[0;32m/usr/lib/python2.7/socket.pyc\u001b[0m in \u001b[0;36mreadline\u001b[0;34m(self, size)\u001b[0m\n\u001b[1;32m    428\u001b[0m                     \u001b[0;32mtry\u001b[0m\u001b[0;34m:\u001b[0m\u001b[0;34m\u001b[0m\u001b[0m\n\u001b[1;32m    429\u001b[0m                         \u001b[0;32mwhile\u001b[0m \u001b[0mdata\u001b[0m \u001b[0;34m!=\u001b[0m \u001b[0;34m\"\\n\"\u001b[0m\u001b[0;34m:\u001b[0m\u001b[0;34m\u001b[0m\u001b[0m\n\u001b[0;32m--> 430\u001b[0;31m                             \u001b[0mdata\u001b[0m \u001b[0;34m=\u001b[0m \u001b[0mrecv\u001b[0m\u001b[0;34m(\u001b[0m\u001b[0;36m1\u001b[0m\u001b[0;34m)\u001b[0m\u001b[0;34m\u001b[0m\u001b[0m\n\u001b[0m\u001b[1;32m    431\u001b[0m                             \u001b[0;32mif\u001b[0m \u001b[0;32mnot\u001b[0m \u001b[0mdata\u001b[0m\u001b[0;34m:\u001b[0m\u001b[0;34m\u001b[0m\u001b[0m\n\u001b[1;32m    432\u001b[0m                                 \u001b[0;32mbreak\u001b[0m\u001b[0;34m\u001b[0m\u001b[0m\n",
      "\u001b[0;31mKeyboardInterrupt\u001b[0m: "
     ]
    }
   ],
   "source": [
    "all_topic_data.count()"
   ]
  },
  {
   "cell_type": "markdown",
   "metadata": {},
   "source": [
    "# step 2 prepare click data"
   ]
  },
  {
   "cell_type": "code",
   "execution_count": 20,
   "metadata": {
    "collapsed": true
   },
   "outputs": [],
   "source": [
    "click_line = sc.textFile(click_path)"
   ]
  },
  {
   "cell_type": "code",
   "execution_count": 21,
   "metadata": {
    "scrolled": true
   },
   "outputs": [
    {
     "ename": "KeyboardInterrupt",
     "evalue": "",
     "output_type": "error",
     "traceback": [
      "\u001b[0;31m---------------------------------------------------------------------------\u001b[0m",
      "\u001b[0;31mKeyboardInterrupt\u001b[0m                         Traceback (most recent call last)",
      "\u001b[0;32m<ipython-input-21-1b4a7fe71ee7>\u001b[0m in \u001b[0;36m<module>\u001b[0;34m()\u001b[0m\n\u001b[0;32m----> 1\u001b[0;31m \u001b[0mclick_line\u001b[0m\u001b[0;34m.\u001b[0m\u001b[0mcount\u001b[0m\u001b[0;34m(\u001b[0m\u001b[0;34m)\u001b[0m\u001b[0;34m\u001b[0m\u001b[0m\n\u001b[0m",
      "\u001b[0;32m/home/appops/spark-1.6.1-bin-hadoop2.6/python/pyspark/rdd.pyc\u001b[0m in \u001b[0;36mcount\u001b[0;34m(self)\u001b[0m\n\u001b[1;32m   1002\u001b[0m         \u001b[0;36m3\u001b[0m\u001b[0;34m\u001b[0m\u001b[0m\n\u001b[1;32m   1003\u001b[0m         \"\"\"\n\u001b[0;32m-> 1004\u001b[0;31m         \u001b[0;32mreturn\u001b[0m \u001b[0mself\u001b[0m\u001b[0;34m.\u001b[0m\u001b[0mmapPartitions\u001b[0m\u001b[0;34m(\u001b[0m\u001b[0;32mlambda\u001b[0m \u001b[0mi\u001b[0m\u001b[0;34m:\u001b[0m \u001b[0;34m[\u001b[0m\u001b[0msum\u001b[0m\u001b[0;34m(\u001b[0m\u001b[0;36m1\u001b[0m \u001b[0;32mfor\u001b[0m \u001b[0m_\u001b[0m \u001b[0;32min\u001b[0m \u001b[0mi\u001b[0m\u001b[0;34m)\u001b[0m\u001b[0;34m]\u001b[0m\u001b[0;34m)\u001b[0m\u001b[0;34m.\u001b[0m\u001b[0msum\u001b[0m\u001b[0;34m(\u001b[0m\u001b[0;34m)\u001b[0m\u001b[0;34m\u001b[0m\u001b[0m\n\u001b[0m\u001b[1;32m   1005\u001b[0m \u001b[0;34m\u001b[0m\u001b[0m\n\u001b[1;32m   1006\u001b[0m     \u001b[0;32mdef\u001b[0m \u001b[0mstats\u001b[0m\u001b[0;34m(\u001b[0m\u001b[0mself\u001b[0m\u001b[0;34m)\u001b[0m\u001b[0;34m:\u001b[0m\u001b[0;34m\u001b[0m\u001b[0m\n",
      "\u001b[0;32m/home/appops/spark-1.6.1-bin-hadoop2.6/python/pyspark/rdd.pyc\u001b[0m in \u001b[0;36msum\u001b[0;34m(self)\u001b[0m\n\u001b[1;32m    993\u001b[0m         \u001b[0;36m6.0\u001b[0m\u001b[0;34m\u001b[0m\u001b[0m\n\u001b[1;32m    994\u001b[0m         \"\"\"\n\u001b[0;32m--> 995\u001b[0;31m         \u001b[0;32mreturn\u001b[0m \u001b[0mself\u001b[0m\u001b[0;34m.\u001b[0m\u001b[0mmapPartitions\u001b[0m\u001b[0;34m(\u001b[0m\u001b[0;32mlambda\u001b[0m \u001b[0mx\u001b[0m\u001b[0;34m:\u001b[0m \u001b[0;34m[\u001b[0m\u001b[0msum\u001b[0m\u001b[0;34m(\u001b[0m\u001b[0mx\u001b[0m\u001b[0;34m)\u001b[0m\u001b[0;34m]\u001b[0m\u001b[0;34m)\u001b[0m\u001b[0;34m.\u001b[0m\u001b[0mfold\u001b[0m\u001b[0;34m(\u001b[0m\u001b[0;36m0\u001b[0m\u001b[0;34m,\u001b[0m \u001b[0moperator\u001b[0m\u001b[0;34m.\u001b[0m\u001b[0madd\u001b[0m\u001b[0;34m)\u001b[0m\u001b[0;34m\u001b[0m\u001b[0m\n\u001b[0m\u001b[1;32m    996\u001b[0m \u001b[0;34m\u001b[0m\u001b[0m\n\u001b[1;32m    997\u001b[0m     \u001b[0;32mdef\u001b[0m \u001b[0mcount\u001b[0m\u001b[0;34m(\u001b[0m\u001b[0mself\u001b[0m\u001b[0;34m)\u001b[0m\u001b[0;34m:\u001b[0m\u001b[0;34m\u001b[0m\u001b[0m\n",
      "\u001b[0;32m/home/appops/spark-1.6.1-bin-hadoop2.6/python/pyspark/rdd.pyc\u001b[0m in \u001b[0;36mfold\u001b[0;34m(self, zeroValue, op)\u001b[0m\n\u001b[1;32m    867\u001b[0m         \u001b[0;31m# zeroValue provided to each partition is unique from the one provided\u001b[0m\u001b[0;34m\u001b[0m\u001b[0;34m\u001b[0m\u001b[0m\n\u001b[1;32m    868\u001b[0m         \u001b[0;31m# to the final reduce call\u001b[0m\u001b[0;34m\u001b[0m\u001b[0;34m\u001b[0m\u001b[0m\n\u001b[0;32m--> 869\u001b[0;31m         \u001b[0mvals\u001b[0m \u001b[0;34m=\u001b[0m \u001b[0mself\u001b[0m\u001b[0;34m.\u001b[0m\u001b[0mmapPartitions\u001b[0m\u001b[0;34m(\u001b[0m\u001b[0mfunc\u001b[0m\u001b[0;34m)\u001b[0m\u001b[0;34m.\u001b[0m\u001b[0mcollect\u001b[0m\u001b[0;34m(\u001b[0m\u001b[0;34m)\u001b[0m\u001b[0;34m\u001b[0m\u001b[0m\n\u001b[0m\u001b[1;32m    870\u001b[0m         \u001b[0;32mreturn\u001b[0m \u001b[0mreduce\u001b[0m\u001b[0;34m(\u001b[0m\u001b[0mop\u001b[0m\u001b[0;34m,\u001b[0m \u001b[0mvals\u001b[0m\u001b[0;34m,\u001b[0m \u001b[0mzeroValue\u001b[0m\u001b[0;34m)\u001b[0m\u001b[0;34m\u001b[0m\u001b[0m\n\u001b[1;32m    871\u001b[0m \u001b[0;34m\u001b[0m\u001b[0m\n",
      "\u001b[0;32m/home/appops/spark-1.6.1-bin-hadoop2.6/python/pyspark/rdd.pyc\u001b[0m in \u001b[0;36mcollect\u001b[0;34m(self)\u001b[0m\n\u001b[1;32m    769\u001b[0m         \"\"\"\n\u001b[1;32m    770\u001b[0m         \u001b[0;32mwith\u001b[0m \u001b[0mSCCallSiteSync\u001b[0m\u001b[0;34m(\u001b[0m\u001b[0mself\u001b[0m\u001b[0;34m.\u001b[0m\u001b[0mcontext\u001b[0m\u001b[0;34m)\u001b[0m \u001b[0;32mas\u001b[0m \u001b[0mcss\u001b[0m\u001b[0;34m:\u001b[0m\u001b[0;34m\u001b[0m\u001b[0m\n\u001b[0;32m--> 771\u001b[0;31m             \u001b[0mport\u001b[0m \u001b[0;34m=\u001b[0m \u001b[0mself\u001b[0m\u001b[0;34m.\u001b[0m\u001b[0mctx\u001b[0m\u001b[0;34m.\u001b[0m\u001b[0m_jvm\u001b[0m\u001b[0;34m.\u001b[0m\u001b[0mPythonRDD\u001b[0m\u001b[0;34m.\u001b[0m\u001b[0mcollectAndServe\u001b[0m\u001b[0;34m(\u001b[0m\u001b[0mself\u001b[0m\u001b[0;34m.\u001b[0m\u001b[0m_jrdd\u001b[0m\u001b[0;34m.\u001b[0m\u001b[0mrdd\u001b[0m\u001b[0;34m(\u001b[0m\u001b[0;34m)\u001b[0m\u001b[0;34m)\u001b[0m\u001b[0;34m\u001b[0m\u001b[0m\n\u001b[0m\u001b[1;32m    772\u001b[0m         \u001b[0;32mreturn\u001b[0m \u001b[0mlist\u001b[0m\u001b[0;34m(\u001b[0m\u001b[0m_load_from_socket\u001b[0m\u001b[0;34m(\u001b[0m\u001b[0mport\u001b[0m\u001b[0;34m,\u001b[0m \u001b[0mself\u001b[0m\u001b[0;34m.\u001b[0m\u001b[0m_jrdd_deserializer\u001b[0m\u001b[0;34m)\u001b[0m\u001b[0;34m)\u001b[0m\u001b[0;34m\u001b[0m\u001b[0m\n\u001b[1;32m    773\u001b[0m \u001b[0;34m\u001b[0m\u001b[0m\n",
      "\u001b[0;32m/home/appops/spark-1.6.1-bin-hadoop2.6/python/lib/py4j-0.9-src.zip/py4j/java_gateway.py\u001b[0m in \u001b[0;36m__call__\u001b[0;34m(self, *args)\u001b[0m\n\u001b[1;32m    809\u001b[0m             \u001b[0mproto\u001b[0m\u001b[0;34m.\u001b[0m\u001b[0mEND_COMMAND_PART\u001b[0m\u001b[0;34m\u001b[0m\u001b[0m\n\u001b[1;32m    810\u001b[0m \u001b[0;34m\u001b[0m\u001b[0m\n\u001b[0;32m--> 811\u001b[0;31m         \u001b[0manswer\u001b[0m \u001b[0;34m=\u001b[0m \u001b[0mself\u001b[0m\u001b[0;34m.\u001b[0m\u001b[0mgateway_client\u001b[0m\u001b[0;34m.\u001b[0m\u001b[0msend_command\u001b[0m\u001b[0;34m(\u001b[0m\u001b[0mcommand\u001b[0m\u001b[0;34m)\u001b[0m\u001b[0;34m\u001b[0m\u001b[0m\n\u001b[0m\u001b[1;32m    812\u001b[0m         return_value = get_return_value(\n\u001b[1;32m    813\u001b[0m             answer, self.gateway_client, self.target_id, self.name)\n",
      "\u001b[0;32m/home/appops/spark-1.6.1-bin-hadoop2.6/python/lib/py4j-0.9-src.zip/py4j/java_gateway.py\u001b[0m in \u001b[0;36msend_command\u001b[0;34m(self, command, retry)\u001b[0m\n\u001b[1;32m    624\u001b[0m         \u001b[0mconnection\u001b[0m \u001b[0;34m=\u001b[0m \u001b[0mself\u001b[0m\u001b[0;34m.\u001b[0m\u001b[0m_get_connection\u001b[0m\u001b[0;34m(\u001b[0m\u001b[0;34m)\u001b[0m\u001b[0;34m\u001b[0m\u001b[0m\n\u001b[1;32m    625\u001b[0m         \u001b[0;32mtry\u001b[0m\u001b[0;34m:\u001b[0m\u001b[0;34m\u001b[0m\u001b[0m\n\u001b[0;32m--> 626\u001b[0;31m             \u001b[0mresponse\u001b[0m \u001b[0;34m=\u001b[0m \u001b[0mconnection\u001b[0m\u001b[0;34m.\u001b[0m\u001b[0msend_command\u001b[0m\u001b[0;34m(\u001b[0m\u001b[0mcommand\u001b[0m\u001b[0;34m)\u001b[0m\u001b[0;34m\u001b[0m\u001b[0m\n\u001b[0m\u001b[1;32m    627\u001b[0m             \u001b[0mself\u001b[0m\u001b[0;34m.\u001b[0m\u001b[0m_give_back_connection\u001b[0m\u001b[0;34m(\u001b[0m\u001b[0mconnection\u001b[0m\u001b[0;34m)\u001b[0m\u001b[0;34m\u001b[0m\u001b[0m\n\u001b[1;32m    628\u001b[0m         \u001b[0;32mexcept\u001b[0m \u001b[0mPy4JNetworkError\u001b[0m\u001b[0;34m:\u001b[0m\u001b[0;34m\u001b[0m\u001b[0m\n",
      "\u001b[0;32m/home/appops/spark-1.6.1-bin-hadoop2.6/python/lib/py4j-0.9-src.zip/py4j/java_gateway.py\u001b[0m in \u001b[0;36msend_command\u001b[0;34m(self, command)\u001b[0m\n\u001b[1;32m    738\u001b[0m         \u001b[0;32mtry\u001b[0m\u001b[0;34m:\u001b[0m\u001b[0;34m\u001b[0m\u001b[0m\n\u001b[1;32m    739\u001b[0m             \u001b[0mself\u001b[0m\u001b[0;34m.\u001b[0m\u001b[0msocket\u001b[0m\u001b[0;34m.\u001b[0m\u001b[0msendall\u001b[0m\u001b[0;34m(\u001b[0m\u001b[0mcommand\u001b[0m\u001b[0;34m.\u001b[0m\u001b[0mencode\u001b[0m\u001b[0;34m(\u001b[0m\u001b[0;34m\"utf-8\"\u001b[0m\u001b[0;34m)\u001b[0m\u001b[0;34m)\u001b[0m\u001b[0;34m\u001b[0m\u001b[0m\n\u001b[0;32m--> 740\u001b[0;31m             \u001b[0manswer\u001b[0m \u001b[0;34m=\u001b[0m \u001b[0msmart_decode\u001b[0m\u001b[0;34m(\u001b[0m\u001b[0mself\u001b[0m\u001b[0;34m.\u001b[0m\u001b[0mstream\u001b[0m\u001b[0;34m.\u001b[0m\u001b[0mreadline\u001b[0m\u001b[0;34m(\u001b[0m\u001b[0;34m)\u001b[0m\u001b[0;34m[\u001b[0m\u001b[0;34m:\u001b[0m\u001b[0;34m-\u001b[0m\u001b[0;36m1\u001b[0m\u001b[0;34m]\u001b[0m\u001b[0;34m)\u001b[0m\u001b[0;34m\u001b[0m\u001b[0m\n\u001b[0m\u001b[1;32m    741\u001b[0m             \u001b[0mlogger\u001b[0m\u001b[0;34m.\u001b[0m\u001b[0mdebug\u001b[0m\u001b[0;34m(\u001b[0m\u001b[0;34m\"Answer received: {0}\"\u001b[0m\u001b[0;34m.\u001b[0m\u001b[0mformat\u001b[0m\u001b[0;34m(\u001b[0m\u001b[0manswer\u001b[0m\u001b[0;34m)\u001b[0m\u001b[0;34m)\u001b[0m\u001b[0;34m\u001b[0m\u001b[0m\n\u001b[1;32m    742\u001b[0m             \u001b[0;31m# Happens when a the other end is dead. There might be an empty\u001b[0m\u001b[0;34m\u001b[0m\u001b[0;34m\u001b[0m\u001b[0m\n",
      "\u001b[0;32m/usr/lib/python2.7/socket.pyc\u001b[0m in \u001b[0;36mreadline\u001b[0;34m(self, size)\u001b[0m\n\u001b[1;32m    428\u001b[0m                     \u001b[0;32mtry\u001b[0m\u001b[0;34m:\u001b[0m\u001b[0;34m\u001b[0m\u001b[0m\n\u001b[1;32m    429\u001b[0m                         \u001b[0;32mwhile\u001b[0m \u001b[0mdata\u001b[0m \u001b[0;34m!=\u001b[0m \u001b[0;34m\"\\n\"\u001b[0m\u001b[0;34m:\u001b[0m\u001b[0;34m\u001b[0m\u001b[0m\n\u001b[0;32m--> 430\u001b[0;31m                             \u001b[0mdata\u001b[0m \u001b[0;34m=\u001b[0m \u001b[0mrecv\u001b[0m\u001b[0;34m(\u001b[0m\u001b[0;36m1\u001b[0m\u001b[0;34m)\u001b[0m\u001b[0;34m\u001b[0m\u001b[0m\n\u001b[0m\u001b[1;32m    431\u001b[0m                             \u001b[0;32mif\u001b[0m \u001b[0;32mnot\u001b[0m \u001b[0mdata\u001b[0m\u001b[0;34m:\u001b[0m\u001b[0;34m\u001b[0m\u001b[0m\n\u001b[1;32m    432\u001b[0m                                 \u001b[0;32mbreak\u001b[0m\u001b[0;34m\u001b[0m\u001b[0m\n",
      "\u001b[0;31mKeyboardInterrupt\u001b[0m: "
     ]
    }
   ],
   "source": [
    "click_line.count()"
   ]
  },
  {
   "cell_type": "code",
   "execution_count": 23,
   "metadata": {},
   "outputs": [
    {
     "data": {
      "text/plain": [
       "u'{\"appId\":\"2x1kfBk63z\",\"column\":\"\\u5934\\u6761\",\"devId\":\"CQk0NjU4YzBjZDgxZDRmMDcyCWZlMjA4N2Q%3D\",\"du\":2003,\"event\":\"EV\",\"id\":\"DF3RQ35N052198I6\",\"ip\":\"116.4.93.11\",\"logId\":\"1523462400234\",\"offset\":30,\"passport\":\"\",\"pg\":0.0,\"platform\":\"android\",\"receiveTime\":1523462717616,\"t\":\"1\",\"timestamp\":1523462716099,\"upTimestamp\":1523462717000}'"
      ]
     },
     "execution_count": 23,
     "metadata": {},
     "output_type": "execute_result"
    }
   ],
   "source": [
    "click_line.first()"
   ]
  },
  {
   "cell_type": "code",
   "execution_count": null,
   "metadata": {
    "collapsed": true
   },
   "outputs": [],
   "source": [
    "click_data = click_line.flatMap(parse_userid_docid).repartition(2000)"
   ]
  }
 ],
 "metadata": {
  "kernelspec": {
   "display_name": "Python 2",
   "language": "python",
   "name": "python2"
  },
  "language_info": {
   "codemirror_mode": {
    "name": "ipython",
    "version": 3
   },
   "file_extension": ".py",
   "mimetype": "text/x-python",
   "name": "python",
   "nbconvert_exporter": "python",
   "pygments_lexer": "ipython3",
   "version": "3.6.4"
  }
 },
 "nbformat": 4,
 "nbformat_minor": 2
}
