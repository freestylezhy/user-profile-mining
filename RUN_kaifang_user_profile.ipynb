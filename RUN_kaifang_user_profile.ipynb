{
 "cells": [
  {
   "cell_type": "code",
   "execution_count": 1,
   "metadata": {
    "collapsed": true
   },
   "outputs": [],
   "source": [
    "import sys,re,os\n",
    "import datetime,time\n",
    "# from pyspark import SparkContext\n",
    "# from pyspark import SparkConf\n",
    "from operator import add\n",
    "import json,math,random\n",
    "import base64\n",
    "reload(sys)\n",
    "sys.setdefaultencoding( \"utf-8\" )"
   ]
  },
  {
   "cell_type": "code",
   "execution_count": 2,
   "metadata": {
    "collapsed": true
   },
   "outputs": [],
   "source": [
    "day = '2018-04-10'"
   ]
  },
  {
   "cell_type": "code",
   "execution_count": 3,
   "metadata": {},
   "outputs": [
    {
     "data": {
      "text/plain": [
       "'201804'"
      ]
     },
     "execution_count": 3,
     "metadata": {},
     "output_type": "execute_result"
    }
   ],
   "source": [
    "format_day = day.replace('-','')\n",
    "month = format_day[0:6]\n",
    "month"
   ]
  },
  {
   "cell_type": "code",
   "execution_count": 4,
   "metadata": {
    "collapsed": true
   },
   "outputs": [],
   "source": [
    "yesterday = '2018-04-09'.replace('-','')"
   ]
  },
  {
   "cell_type": "code",
   "execution_count": null,
   "metadata": {
    "collapsed": true
   },
   "outputs": [],
   "source": []
  },
  {
   "cell_type": "code",
   "execution_count": 5,
   "metadata": {
    "collapsed": true
   },
   "outputs": [],
   "source": [
    "click_path = '/user/portal/ODM/SDK/ODM_SDK_MOBILE_LOG/month=%s/day=%s/*/*' %(month,format_day)\n",
    "today_topic_path = '/user/datacenter/data/headline_ctr/doc_extract4/month=%s/day=%s/*/*.gz,/user/datacenter/data/openplat_ctr/doc_extract/month=%s/day=%s/*/*.gz' %(month,format_day,month,format_day)\n",
    "old_topic_path = '/user/datacenter/linguangjie/user-profile-history/headline_topic_backup/' + yesterday\n",
    "video_topic_path = '/user/datacenter/liyupeng/liujian/item_info_merge/final'\n",
    "new_topic_path = '/user/datacenter/linguangjie/user-profile-history/headline_topic_backup/' + format_day\n",
    "old_profile_path = 'hdfs://hz-cluster3/user/datacenter/linguangjie/user-profile-history/all-profile/%s/*' %(yesterday).replace('-','')\n"
   ]
  },
  {
   "cell_type": "code",
   "execution_count": 6,
   "metadata": {},
   "outputs": [],
   "source": [
    "sc.addPyFile(\"hdfs://hz-cluster3/user/datacenter/linguangjie/bin/Crypto.zip\")\n",
    "sc.addPyFile(\"hdfs://hz-cluster3/user/datacenter/linguangjie/bin/rediscluster.zip\")\n",
    "sc.addPyFile(\"hdfs://hz-cluster3/user/datacenter/linguangjie/bin/common-gen-py.zip\")\n",
    "sc.addPyFile(\"hdfs://hz-cluster3/user/datacenter/linguangjie/bin/ufs.zip\")\n",
    "sc.addPyFile(\"hdfs://hz-cluster3/user/datacenter/linguangjie/bin/mmhash.so\")"
   ]
  },
  {
   "cell_type": "code",
   "execution_count": 7,
   "metadata": {
    "collapsed": true
   },
   "outputs": [],
   "source": [
    "today_topic_line = sc.textFile(today_topic_path)\n",
    "old_topic_line =  sc.textFile(old_topic_path)\n",
    "video_topic_line = sc.textFile(video_topic_path)"
   ]
  },
  {
   "cell_type": "code",
   "execution_count": 8,
   "metadata": {
    "collapsed": true
   },
   "outputs": [],
   "source": [
    "line = today_topic_line.first()"
   ]
  },
  {
   "cell_type": "code",
   "execution_count": 9,
   "metadata": {
    "collapsed": true
   },
   "outputs": [],
   "source": [
    "topic_json = json.loads(line)"
   ]
  },
  {
   "cell_type": "code",
   "execution_count": 10,
   "metadata": {},
   "outputs": [
    {
     "data": {
      "text/plain": [
       "u'DEUGRSMI0517TE39'"
      ]
     },
     "execution_count": 10,
     "metadata": {},
     "output_type": "execute_result"
    }
   ],
   "source": [
    "topic_json['docid']"
   ]
  },
  {
   "cell_type": "code",
   "execution_count": 11,
   "metadata": {},
   "outputs": [
    {
     "data": {
      "text/plain": [
       "u'2018-04-12 08:11:00'"
      ]
     },
     "execution_count": 11,
     "metadata": {},
     "output_type": "execute_result"
    }
   ],
   "source": [
    "topic_json['expireTime']"
   ]
  },
  {
   "cell_type": "code",
   "execution_count": 12,
   "metadata": {
    "collapsed": true
   },
   "outputs": [],
   "source": [
    "def device_id_parse(enStr, key):\n",
    "    from Crypto.Cipher import AES\n",
    "    cipher = AES.new(key, AES.MODE_ECB)\n",
    "    enStr += (len(enStr) % 4)*\"=\"\n",
    "    decryptByts = base64.b64decode(enStr)\n",
    "    msg = cipher.decrypt(decryptByts)\n",
    "    paddingLen = ord(msg[len(msg)-1])\n",
    "    return msg[0:-paddingLen]\n",
    "\n",
    "def parse_userid_docid(click_data):\n",
    "    body_str =click_data.split('message:')\n",
    "    try:\n",
    "        message = json.loads(body_str[1])\n",
    "        for item in message:\n",
    "            if \"u\" not in item or 'e' not in item:\n",
    "                continue\n",
    "            if \"id\" in item and item['id'] in ('91XRY1','lN09e3','RMN9XR'):\n",
    "                uid_type = 'tsb'\n",
    "            elif \"id\" in item and item['id'] in ('TV51dh'):\n",
    "                uid_type = 'kfpt'\n",
    "            else:\n",
    "                continue\n",
    "\n",
    "            uuid = item['u']\n",
    "            for arrays in item['e']:\n",
    "                if  'n' in arrays and 'ts' in arrays and arrays['n'] in [\"_vvX\",\"_pvX\",\"_svX\",\"_ivX\"] and \\\n",
    "                    'du' in arrays and 'kv' in arrays and 'id' in arrays['kv'] and 'column' in arrays['kv'] :\n",
    "                    occur_ts = str(arrays['ts'])\n",
    "                    du = str(arrays['du'])\n",
    "                    docid = str(arrays['kv']['id'])\n",
    "                    if ( not docid.startswith('V')) and ( not (len(docid) == 16 and docid[8:12].isdigit())):\n",
    "                        continue\n",
    "                    offset = \"\"\n",
    "                    sessionid = \"\"\n",
    "                    passport = \"\"\n",
    "                    if 'p' in arrays:\n",
    "                        passport = device_id_parse(arrays['p'],'neteasemobiledat')\n",
    "                    \n",
    "                    if passport != \"\":\n",
    "                        yield (docid,passport)\n",
    "                    yield (docid,uuid)                        \n",
    "    except:\n",
    "        pass"
   ]
  },
  {
   "cell_type": "markdown",
   "metadata": {},
   "source": [
    "# Click Data"
   ]
  },
  {
   "cell_type": "code",
   "execution_count": 13,
   "metadata": {
    "collapsed": true
   },
   "outputs": [],
   "source": [
    "click_line = sc.textFile(click_path)"
   ]
  },
  {
   "cell_type": "code",
   "execution_count": 14,
   "metadata": {
    "collapsed": true
   },
   "outputs": [],
   "source": [
    "click_data = click_line.flatMap(parse_userid_docid)"
   ]
  },
  {
   "cell_type": "code",
   "execution_count": 15,
   "metadata": {},
   "outputs": [
    {
     "data": {
      "text/plain": [
       "[('DEQT9MKL0522AH2L', u'CQkyOGEzY2ZkNTgwOTk4YWY4CTYzMzUwMDE%3D'),\n",
       " ('VIDSP4K8V', u'CQkyOGEzY2ZkNTgwOTk4YWY4CTYzMzUwMDE%3D'),\n",
       " ('VHDI3SDBC', u'CQkyOGEzY2ZkNTgwOTk4YWY4CTYzMzUwMDE%3D'),\n",
       " ('DEQUSOBL0522A15A', u'CQkyOGEzY2ZkNTgwOTk4YWY4CTYzMzUwMDE%3D'),\n",
       " ('VNCSP1LI8', u'CQljMDMxZjExYmVmMDBiNTNiCVoyWDRDMTVCMDMwMTQ2MDc%3D'),\n",
       " ('DEV6NNJJ0528QQAC', u'CQkyMWU4MGQwNmZkY2NkYTQwCUdKUTdOMTgzMDkwMDY4OTE%3D'),\n",
       " ('D3ND3HE00517A6VE', u'CQllYmMxMDMyMWQ2ZDVhMGY3CUxFNjdBMDYxODAzMDEzMjU%3D'),\n",
       " ('DE2Q8VLB0526PHHI', u'866820010264095'),\n",
       " ('VADQM8PMH', u'CQk2MDZhYjYwMTUyZmEyY2I1CURCSDlYQTE3NDIyMDEwOTI%3D'),\n",
       " ('VRDFBKS0U', u'CQk4ZDQ3ZWNjNGIxYjhjODE3CTQ3MzNlMWVl')]"
      ]
     },
     "execution_count": 15,
     "metadata": {},
     "output_type": "execute_result"
    }
   ],
   "source": [
    "click_data.take(10)"
   ]
  },
  {
   "cell_type": "markdown",
   "metadata": {},
   "source": [
    "# profile data"
   ]
  },
  {
   "cell_type": "code",
   "execution_count": 38,
   "metadata": {},
   "outputs": [],
   "source": [
    "old_profile_path = '/user/datacenter/linguangjie/user-profile-history/all-profile/20180407/*'"
   ]
  },
  {
   "cell_type": "code",
   "execution_count": 39,
   "metadata": {
    "collapsed": true
   },
   "outputs": [],
   "source": [
    "old_profile_line = sc.textFile(old_profile_path)"
   ]
  },
  {
   "cell_type": "code",
   "execution_count": 42,
   "metadata": {},
   "outputs": [],
   "source": [
    "lines = old_profile_line.collect()"
   ]
  },
  {
   "cell_type": "code",
   "execution_count": 43,
   "metadata": {},
   "outputs": [
    {
     "data": {
      "text/plain": [
       "5106"
      ]
     },
     "execution_count": 43,
     "metadata": {},
     "output_type": "execute_result"
    }
   ],
   "source": [
    "len(lines)"
   ]
  },
  {
   "cell_type": "code",
   "execution_count": 47,
   "metadata": {
    "collapsed": true
   },
   "outputs": [],
   "source": [
    "def parse_old_profile(line):\n",
    "    try:\n",
    "        item = eval(line.encode('utf-8'))\n",
    "    except:\n",
    "        return\n",
    "    \n",
    "    if len(item) == 3:\n",
    "        uid = item[0]\n",
    "        topic_dic = item[1]\n",
    "        day_tag = int(item[2])\n",
    "        if uid != \"\" and  uid != \"-\" and len(uid) > 6:\n",
    "            return (uid,('old', topic_dic, day_tag))"
   ]
  },
  {
   "cell_type": "code",
   "execution_count": 48,
   "metadata": {},
   "outputs": [],
   "source": [
    "profiles = filter(None, map(parse_old_profile, lines))"
   ]
  },
  {
   "cell_type": "markdown",
   "metadata": {},
   "source": [
    "# calc profile data"
   ]
  },
  {
   "cell_type": "code",
   "execution_count": null,
   "metadata": {
    "collapsed": true
   },
   "outputs": [],
   "source": []
  },
  {
   "cell_type": "markdown",
   "metadata": {},
   "source": [
    "# parse_docic_feature"
   ]
  },
  {
   "cell_type": "code",
   "execution_count": 63,
   "metadata": {
    "collapsed": true
   },
   "outputs": [],
   "source": [
    "TOPIC_VERSION = '0000 0000 0000 0000 0010 0001'\n",
    "VEDIO_TITLE_KW_V2_PROFILE_VERSION = '0011 0000 0000 0001 1100 0001'\n",
    "VEDIO_MANUALLY_CATEGORY_PROFILE_VERSION = '0011 0000 0000 0001 0010 0001'\n",
    "VEDIO_MANUALLY_CATEGORY1_PROFILE_VERSION = '0011 0000 0000 0001 1010 0001'\n",
    "VEDIO_EDIT_KW_PROFILE_VERSION =  '0011 0000 0000 0000 1100 0001'\n",
    "VEDIO_INTEREST_PROFILE_VERSION = '0011 0000 0000 0001 0100 0001'\n",
    "HEADLINE_TITLE_KW_PROFILE_VERSION = '0000 0000 0000 0001 1100 0001'\n",
    "HEADLINE_DOC_KW_PROFILE_VERSION =   '0000 0000 0000 0000 0101 0001'\n",
    "HEADLINE_EDIT_KW_PROFILE_VERSION =  '0000 0000 0000 0000 1100 0001'\n",
    "HEADLINE_INTEREST_PROFILE_VERSION = '0000 0000 0000 0001 0100 0001'\n",
    "HEADLINE_MANUALLY_CATEGORY_PROFILE_VERSION = '0000 0000 0000 0001 0010 0001'\n",
    "HEADLINE_LEVEL_CATEGORY_PROFILE_VERSION =    '0000 0000 0000 0001 1010 0001'\n",
    "HEADLINE_W2V_PROFILE_VERSION =  '0000 0000 0000 0000 0010 0001' "
   ]
  },
  {
   "cell_type": "code",
   "execution_count": 64,
   "metadata": {},
   "outputs": [
    {
     "data": {
      "text/plain": [
       "'3001C1'"
      ]
     },
     "execution_count": 64,
     "metadata": {},
     "output_type": "execute_result"
    }
   ],
   "source": [
    "video_title_kw_v2_field = str(hex(int(VEDIO_TITLE_KW_V2_PROFILE_VERSION.replace(' ',\"\"),2)))[2:].upper()\n",
    "video_title_kw_v2_field"
   ]
  },
  {
   "cell_type": "code",
   "execution_count": 65,
   "metadata": {},
   "outputs": [
    {
     "data": {
      "text/plain": [
       "'300121'"
      ]
     },
     "execution_count": 65,
     "metadata": {},
     "output_type": "execute_result"
    }
   ],
   "source": [
    "video_manually_category_field = str(hex(int(VEDIO_MANUALLY_CATEGORY_PROFILE_VERSION.replace(' ',\"\"),2)))[2:].upper()\n",
    "video_manually_category_field"
   ]
  },
  {
   "cell_type": "code",
   "execution_count": 66,
   "metadata": {},
   "outputs": [
    {
     "data": {
      "text/plain": [
       "'3001A1'"
      ]
     },
     "execution_count": 66,
     "metadata": {},
     "output_type": "execute_result"
    }
   ],
   "source": [
    "video_manually_category1_field =  str(hex(int(VEDIO_MANUALLY_CATEGORY1_PROFILE_VERSION.replace(' ',\"\"),2)))[2:].upper()\n",
    "video_manually_category1_field"
   ]
  },
  {
   "cell_type": "code",
   "execution_count": 67,
   "metadata": {
    "collapsed": true
   },
   "outputs": [],
   "source": [
    "video_edit_kw_field  = str(hex(int(VEDIO_EDIT_KW_PROFILE_VERSION.replace(' ',\"\"),2)))[2:].upper()\n",
    "video_interest_field = str(hex(int(VEDIO_INTEREST_PROFILE_VERSION.replace(' ',\"\"),2)))[2:].upper()\n",
    "headline_title_kw_field = str(hex(int(HEADLINE_TITLE_KW_PROFILE_VERSION.replace(' ',\"\"),2)))[2:].upper()\n",
    "headline_doc_kw_field = str(hex(int(HEADLINE_DOC_KW_PROFILE_VERSION.replace(' ',\"\"),2)))[2:].upper()\n",
    "headline_edit_kw_field  = str(hex(int(HEADLINE_EDIT_KW_PROFILE_VERSION.replace(' ',\"\"),2)))[2:].upper()\n",
    "headline_interest_field = str(hex(int(HEADLINE_INTEREST_PROFILE_VERSION.replace(' ',\"\"),2)))[2:].upper()\n",
    "headline_manually_category_field = str(hex(int(HEADLINE_MANUALLY_CATEGORY_PROFILE_VERSION.replace(' ',\"\"),2)))[2:].upper()\n",
    "headline_level_category_field = str(hex(int(HEADLINE_LEVEL_CATEGORY_PROFILE_VERSION.replace(' ',\"\"),2)))[2:].upper()\n",
    "headline_w2v_field = str(hex(int(HEADLINE_W2V_PROFILE_VERSION.replace(' ',\"\"),2)))[2:].upper()"
   ]
  },
  {
   "cell_type": "code",
   "execution_count": 70,
   "metadata": {},
   "outputs": [
    {
     "data": {
      "text/plain": [
       "'1A1'"
      ]
     },
     "execution_count": 70,
     "metadata": {},
     "output_type": "execute_result"
    }
   ],
   "source": [
    "headline_level_category_field"
   ]
  },
  {
   "cell_type": "code",
   "execution_count": 71,
   "metadata": {},
   "outputs": [
    {
     "ename": "NameError",
     "evalue": "name 'feature_json' is not defined",
     "output_type": "error",
     "traceback": [
      "\u001b[0;31m---------------------------------------------------------------------------\u001b[0m",
      "\u001b[0;31mNameError\u001b[0m                                 Traceback (most recent call last)",
      "\u001b[0;32m<ipython-input-71-78d79e822e51>\u001b[0m in \u001b[0;36m<module>\u001b[0;34m()\u001b[0m\n\u001b[0;32m----> 1\u001b[0;31m \u001b[0mfeature_json\u001b[0m\u001b[0;34m[\u001b[0m\u001b[0;34m'title_kw_v2'\u001b[0m\u001b[0;34m]\u001b[0m\u001b[0;34m\u001b[0m\u001b[0m\n\u001b[0m",
      "\u001b[0;31mNameError\u001b[0m: name 'feature_json' is not defined"
     ]
    }
   ],
   "source": [
    "feature_json['title_kw_v2']"
   ]
  },
  {
   "cell_type": "code",
   "execution_count": 78,
   "metadata": {},
   "outputs": [
    {
     "data": {
      "text/plain": [
       "pyspark.rdd.RDD"
      ]
     },
     "execution_count": 78,
     "metadata": {},
     "output_type": "execute_result"
    }
   ],
   "source": [
    "type(today_topic_line)"
   ]
  },
  {
   "cell_type": "code",
   "execution_count": 82,
   "metadata": {
    "scrolled": true
   },
   "outputs": [
    {
     "data": {
      "text/plain": [
       "[u'img_embedding',\n",
       " u'title_byte_count',\n",
       " u'attitudesCount',\n",
       " u'playlength',\n",
       " u'imgType',\n",
       " u'doc_word_count',\n",
       " u'digest',\n",
       " u'title',\n",
       " u'source',\n",
       " u'expireTime2',\n",
       " u'kwList',\n",
       " u'repostsCount',\n",
       " u'video_origin',\n",
       " u'receive_time',\n",
       " u'dkeys',\n",
       " u'photosetID',\n",
       " u'imgsrc',\n",
       " u'skipType',\n",
       " u'data_source',\n",
       " u'imgnewextra',\n",
       " u'bodySegObj',\n",
       " u'sectionsid',\n",
       " u'sansu_score',\n",
       " u'docUrl',\n",
       " u'end_time',\n",
       " u'title_kw',\n",
       " u'largeurl',\n",
       " u'localcity',\n",
       " u'imgsum',\n",
       " u'clusterId',\n",
       " u'mp4SdUrl',\n",
       " u'create_time',\n",
       " u'apollo_docid',\n",
       " u'topic_w2v',\n",
       " u'channelType',\n",
       " u'category',\n",
       " u'docid',\n",
       " u'doc_segment',\n",
       " u'doc_byte_count',\n",
       " u'title_char_count',\n",
       " u'origion',\n",
       " u'sourceLevel',\n",
       " u'TAGS',\n",
       " u'segSimHashObj',\n",
       " u'title_word_count',\n",
       " u'publisher',\n",
       " u'titlekwList_v2',\n",
       " u'sizeSHD',\n",
       " u'lmodify',\n",
       " u'coverUrls',\n",
       " u'sectiondescription',\n",
       " u'playersize',\n",
       " u'sizeSD',\n",
       " u'vid',\n",
       " u'sizeHD',\n",
       " u'accountCategory',\n",
       " u'quality',\n",
       " u'category_v3',\n",
       " u'sectiontitle',\n",
       " u'vulgar',\n",
       " u'titleCheat',\n",
       " u'is_santu',\n",
       " u'body_limit_300',\n",
       " u'multiurl',\n",
       " u'titleHash',\n",
       " u'kb_extension',\n",
       " u'interests',\n",
       " u'title_segment',\n",
       " u'is_headline_video',\n",
       " u'labelMap',\n",
       " u'skipID',\n",
       " u'picUrls',\n",
       " u'titlekwList',\n",
       " u'commentid',\n",
       " u'titleSegList',\n",
       " u'doctype',\n",
       " u'cmsId',\n",
       " u'm3u8SdUrl',\n",
       " u'ptime',\n",
       " u'key3',\n",
       " u'key2',\n",
       " u'key1',\n",
       " u'sectionimg',\n",
       " u'titlekwHash',\n",
       " u'coverStyle',\n",
       " u'boardid',\n",
       " u'other',\n",
       " u'singleurl',\n",
       " u'description',\n",
       " u'largePicUrl',\n",
       " u'doc_char_count',\n",
       " u'expireTime',\n",
       " u'source_type',\n",
       " u'detail_category_list',\n",
       " u'sourceId',\n",
       " u'title_kw_v2',\n",
       " u'kw',\n",
       " u'continousplay',\n",
       " u'position']"
      ]
     },
     "execution_count": 82,
     "metadata": {},
     "output_type": "execute_result"
    }
   ],
   "source": [
    "topic_json.keys()"
   ]
  },
  {
   "cell_type": "code",
   "execution_count": 91,
   "metadata": {
    "collapsed": true
   },
   "outputs": [],
   "source": [
    "from __future__ import unicode_literals"
   ]
  },
  {
   "cell_type": "code",
   "execution_count": 100,
   "metadata": {},
   "outputs": [
    {
     "data": {
      "text/plain": [
       "u'\\u53c8\\u4e00\\u90e8\\u5927\\u5236\\u4f5c\\uff1f\\u516d\\u5c0f\\u9f84\\u7ae5\\u4e3b\\u6f14\\u5f71\\u89c6\\u7248\\u897f\\u6e38\\u8bb0\\uff0c\\u8fd9\\u624d\\u662f\\u6b63\\u5b97\\u7684\\u7f8e\\u7334\\u738b\\uff01'"
      ]
     },
     "execution_count": 100,
     "metadata": {},
     "output_type": "execute_result"
    }
   ],
   "source": [
    "topic_json['title']"
   ]
  },
  {
   "cell_type": "code",
   "execution_count": 102,
   "metadata": {},
   "outputs": [
    {
     "data": {
      "text/plain": [
       "'\\xe5\\x8f\\x88\\xe4\\xb8\\x80\\xe9\\x83\\xa8\\xe5\\xa4\\xa7\\xe5\\x88\\xb6\\xe4\\xbd\\x9c\\xef\\xbc\\x9f\\xe5\\x85\\xad\\xe5\\xb0\\x8f\\xe9\\xbe\\x84\\xe7\\xab\\xa5\\xe4\\xb8\\xbb\\xe6\\xbc\\x94\\xe5\\xbd\\xb1\\xe8\\xa7\\x86\\xe7\\x89\\x88\\xe8\\xa5\\xbf\\xe6\\xb8\\xb8\\xe8\\xae\\xb0\\xef\\xbc\\x8c\\xe8\\xbf\\x99\\xe6\\x89\\x8d\\xe6\\x98\\xaf\\xe6\\xad\\xa3\\xe5\\xae\\x97\\xe7\\x9a\\x84\\xe7\\xbe\\x8e\\xe7\\x8c\\xb4\\xe7\\x8e\\x8b\\xef\\xbc\\x81'"
      ]
     },
     "execution_count": 102,
     "metadata": {},
     "output_type": "execute_result"
    }
   ],
   "source": [
    "topic_json['title'].encode(\"UTF-8\")"
   ]
  },
  {
   "cell_type": "code",
   "execution_count": 110,
   "metadata": {
    "collapsed": true
   },
   "outputs": [],
   "source": [
    "print 123"
   ]
  },
  {
   "cell_type": "code",
   "execution_count": 137,
   "metadata": {
    "collapsed": true
   },
   "outputs": [],
   "source": [
    "import pprint as pp"
   ]
  },
  {
   "cell_type": "code",
   "execution_count": 138,
   "metadata": {
    "collapsed": true,
    "scrolled": true
   },
   "outputs": [],
   "source": [
    "pp.pprint(topic_json['kwList'])"
   ]
  },
  {
   "cell_type": "code",
   "execution_count": 127,
   "metadata": {},
   "outputs": [
    {
     "ename": "NameError",
     "evalue": "name 'false' is not defined",
     "output_type": "error",
     "traceback": [
      "\u001b[0;31m---------------------------------------------------------------------------\u001b[0m",
      "\u001b[0;31mNameError\u001b[0m                                 Traceback (most recent call last)",
      "\u001b[0;32m<ipython-input-127-7035105bee92>\u001b[0m in \u001b[0;36m<module>\u001b[0;34m()\u001b[0m\n\u001b[0;32m----> 1\u001b[0;31m \u001b[0meval\u001b[0m\u001b[0;34m(\u001b[0m\u001b[0mline\u001b[0m\u001b[0;34m)\u001b[0m\u001b[0;34m\u001b[0m\u001b[0m\n\u001b[0m",
      "\u001b[0;32m<string>\u001b[0m in \u001b[0;36m<module>\u001b[0;34m()\u001b[0m\n",
      "\u001b[0;31mNameError\u001b[0m: name 'false' is not defined"
     ]
    }
   ],
   "source": [
    "eval(line)"
   ]
  },
  {
   "cell_type": "code",
   "execution_count": 134,
   "metadata": {
    "collapsed": true
   },
   "outputs": [],
   "source": [
    "#coding=utf-8 \n",
    "a = u'你好'"
   ]
  },
  {
   "cell_type": "code",
   "execution_count": 142,
   "metadata": {},
   "outputs": [
    {
     "data": {
      "text/plain": [
       "u'\\u4f60\\u597d'"
      ]
     },
     "execution_count": 142,
     "metadata": {},
     "output_type": "execute_result"
    }
   ],
   "source": [
    "a"
   ]
  },
  {
   "cell_type": "code",
   "execution_count": 21,
   "metadata": {},
   "outputs": [
    {
     "ename": "NameError",
     "evalue": "name 'a' is not defined",
     "output_type": "error",
     "traceback": [
      "\u001b[0;31m---------------------------------------------------------------------------\u001b[0m",
      "\u001b[0;31mNameError\u001b[0m                                 Traceback (most recent call last)",
      "\u001b[0;32m<ipython-input-21-9d7b17ad5387>\u001b[0m in \u001b[0;36m<module>\u001b[0;34m()\u001b[0m\n\u001b[0;32m----> 1\u001b[0;31m \u001b[0;32mprint\u001b[0m \u001b[0ma\u001b[0m\u001b[0;34m\u001b[0m\u001b[0m\n\u001b[0m",
      "\u001b[0;31mNameError\u001b[0m: name 'a' is not defined"
     ]
    }
   ],
   "source": [
    "print a"
   ]
  },
  {
   "cell_type": "code",
   "execution_count": 27,
   "metadata": {},
   "outputs": [
    {
     "data": {
      "text/plain": [
       "False"
      ]
     },
     "execution_count": 27,
     "metadata": {},
     "output_type": "execute_result"
    }
   ],
   "source": [
    "'ab' in ('abcd', )"
   ]
  },
  {
   "cell_type": "code",
   "execution_count": 29,
   "metadata": {},
   "outputs": [
    {
     "data": {
      "text/plain": [
       "str"
      ]
     },
     "execution_count": 29,
     "metadata": {},
     "output_type": "execute_result"
    }
   ],
   "source": [
    "('abcd')"
   ]
  },
  {
   "cell_type": "code",
   "execution_count": null,
   "metadata": {
    "collapsed": true
   },
   "outputs": [],
   "source": [
    "()"
   ]
  }
 ],
 "metadata": {
  "kernelspec": {
   "display_name": "Python 2",
   "language": "python",
   "name": "python2"
  },
  "language_info": {
   "codemirror_mode": {
    "name": "ipython",
    "version": 2
   },
   "file_extension": ".py",
   "mimetype": "text/x-python",
   "name": "python",
   "nbconvert_exporter": "python",
   "pygments_lexer": "ipython2",
   "version": "2.7.9"
  }
 },
 "nbformat": 4,
 "nbformat_minor": 2
}
