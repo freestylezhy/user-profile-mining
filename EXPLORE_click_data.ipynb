{
 "cells": [
  {
   "cell_type": "code",
   "execution_count": 6,
   "metadata": {},
   "outputs": [
    {
     "name": "stdout",
     "output_type": "stream",
     "text": [
      "201804112340newsclient-log-collect1.yq.163.org\r\n",
      "201804112340newsclient-log-collect1.yq.163.org.lzo\r\n",
      "201804112340newsclient-log-collect1.yq.163.org.lzo.index\r\n",
      "EXPLORE_click_data.ipynb\r\n",
      "EXPLORE_old_topic_path.ipynb\r\n",
      "EXPLORE_topic_data.ipynb\r\n",
      "EXPLORE_video_topic_path.ipynb\r\n",
      "item_info_merge_final_head\r\n",
      "linguangjie_bin\r\n",
      "old_topic_path\r\n",
      "python-lzo\r\n",
      "today_topic_data\r\n",
      "today_topic_data_headline_ctr\r\n",
      "try_running_system\r\n"
     ]
    }
   ],
   "source": [
    "!ls"
   ]
  },
  {
   "cell_type": "code",
   "execution_count": 8,
   "metadata": {},
   "outputs": [],
   "source": [
    "with open('201804112340newsclient-log-collect1.yq.163.org', encoding = \"ISO-8859-1\") as fp:\n",
    "    lines = fp.readlines()"
   ]
  },
  {
   "cell_type": "code",
   "execution_count": 19,
   "metadata": {},
   "outputs": [],
   "source": [
    "with open('201804112340newsclient-log-collect1.yq.163.org', 'rb') as fp:\n",
    "    lines = fp.readlines()"
   ]
  },
  {
   "cell_type": "code",
   "execution_count": 20,
   "metadata": {},
   "outputs": [
    {
     "data": {
      "text/plain": [
       "b'2018/04/11 23:40:00 ip:113.66.180.194 message:[{\"id\":\"2S5Wcx\",\"e\":[{\"ts\":1523461195114,\"n\":\"COLUMNX\",\"g\":\"\\xe5\\xa4\\xb4\\xe6\\x9d\\xa1\",\"t\":3},{\"ts\":1523461171602,\"n\":\"COLUMND\",\"g\":\"\\xe8\\xb4\\xa2\\xe7\\xbb\\x8f\",\"t\":1},{\"ts\":1523461173986,\"n\":\"TIE_DING\",\"g\":\"\\xe6\\x99\\xae\\xe9\\x80\\x9a\\xe7\\x94\\xa8\\xe6\\x88\\xb7\",\"t\":2},{\"tp\":\"ui\",\"kv\":{\"id\":\"DF40KNP0002581PP\",\"column\":\"\\xe5\\xa4\\xb4\\xe6\\x9d\\xa1\"},\"n\":\"_cvX\",\"ts\":1523461179189,\"du\":7459,\"t\":1},{\"t\":1,\"tp\":\"ui\",\"ts\":1523461179628,\"pg\":0.73,\"du\":5611,\"n\":\"_pvX\",\"kv\":{\"id\":\"DF40KNP0002581PP\",\"type\":\"\\xe6\\x96\\xb0\\xe9\\x97\\xbb\",\"column\":\"\\xe5\\xa4\\xb4\\xe6\\x9d\\xa1\"}},{\"ts\":1523461195114,\"n\":\"COLUMND\",\"g\":\"A\",\"t\":2}],\"ui\":{},\"s\":\"19412854-3AAA-4BE8-84E7-576AFE315A3C\",\"uv\":\"6DD4260A-7CC7-4DB7-8404-1A425C3972D8\"}]\\n'"
      ]
     },
     "execution_count": 20,
     "metadata": {},
     "output_type": "execute_result"
    }
   ],
   "source": [
    "lines[0]"
   ]
  },
  {
   "cell_type": "code",
   "execution_count": 26,
   "metadata": {},
   "outputs": [
    {
     "data": {
      "text/plain": [
       "'[{\"id\":\"2S5Wcx\",\"e\":[{\"ts\":1523461195114,\"n\":\"COLUMNX\",\"g\":\"头条\",\"t\":3},{\"ts\":1523461171602,\"n\":\"COLUMND\",\"g\":\"财经\",\"t\":1},{\"ts\":1523461173986,\"n\":\"TIE_DING\",\"g\":\"普通用户\",\"t\":2},{\"tp\":\"ui\",\"kv\":{\"id\":\"DF40KNP0002581PP\",\"column\":\"头条\"},\"n\":\"_cvX\",\"ts\":1523461179189,\"du\":7459,\"t\":1},{\"t\":1,\"tp\":\"ui\",\"ts\":1523461179628,\"pg\":0.73,\"du\":5611,\"n\":\"_pvX\",\"kv\":{\"id\":\"DF40KNP0002581PP\",\"type\":\"新闻\",\"column\":\"头条\"}},{\"ts\":1523461195114,\"n\":\"COLUMND\",\"g\":\"A\",\"t\":2}],\"ui\":{},\"s\":\"19412854-3AAA-4BE8-84E7-576AFE315A3C\",\"uv\":\"6DD4260A-7CC7-4DB7-8404-1A425C3972D8\"}]\\n'"
      ]
     },
     "execution_count": 26,
     "metadata": {},
     "output_type": "execute_result"
    }
   ],
   "source": [
    "lines[0].split(b' message:')[1].decode('utf-8')"
   ]
  },
  {
   "cell_type": "code",
   "execution_count": 31,
   "metadata": {},
   "outputs": [
    {
     "name": "stdout",
     "output_type": "stream",
     "text": [
      "b'2018/04/11 23:40:00 ip:222.212.22.91 message:[{\"id\":\"2S5Wcx\",\"s\":\"1CB20AA4-51E7-4B2A-A752-080FA6D4136D\",\"ui\":{},\"e\":[{\"kv\":{\"docid\":\"DF4QI1EH0514CQIE\"},\"n\":\"PRELOAD_A\",\"ts\":1523461177890,\"t\":1},{\"kv\":{\"docid\":\"DF4U9PBK0511DJHA\"},\"n\":\"PRELOAD_A\",\"ts\":1523461188209,\"t\":2},{\"kv\":{\"docid\":\"DF5318IM0530L2SC\"},\"n\":\"PRELOAD_A\",\"ts\":1523461196889,\"t\":1}],\"uv\":\"0AA65639-39DB-4C3B-9E22-0771176F72F4\"}]\\n'\n"
     ]
    },
    {
     "data": {
      "text/plain": [
       "{'e': [{'kv': {'docid': 'DF4QI1EH0514CQIE'},\n",
       "   'n': 'PRELOAD_A',\n",
       "   't': 1,\n",
       "   'ts': 1523461177890},\n",
       "  {'kv': {'docid': 'DF4U9PBK0511DJHA'},\n",
       "   'n': 'PRELOAD_A',\n",
       "   't': 2,\n",
       "   'ts': 1523461188209},\n",
       "  {'kv': {'docid': 'DF5318IM0530L2SC'},\n",
       "   'n': 'PRELOAD_A',\n",
       "   't': 1,\n",
       "   'ts': 1523461196889}],\n",
       " 'id': '2S5Wcx',\n",
       " 's': '1CB20AA4-51E7-4B2A-A752-080FA6D4136D',\n",
       " 'ui': {},\n",
       " 'uv': '0AA65639-39DB-4C3B-9E22-0771176F72F4'}"
      ]
     },
     "execution_count": 31,
     "metadata": {},
     "output_type": "execute_result"
    }
   ],
   "source": [
    "i = 102\n",
    "\n",
    "line = lines[i]\n",
    "print(line)\n",
    "json.loads(line.split(b' message:')[1].decode('utf-8'))[0]"
   ]
  },
  {
   "cell_type": "code",
   "execution_count": 9,
   "metadata": {
    "scrolled": true
   },
   "outputs": [
    {
     "data": {
      "text/plain": [
       "391027"
      ]
     },
     "execution_count": 9,
     "metadata": {},
     "output_type": "execute_result"
    }
   ],
   "source": [
    "len(lines)"
   ]
  },
  {
   "cell_type": "code",
   "execution_count": 15,
   "metadata": {},
   "outputs": [],
   "source": [
    "import json"
   ]
  },
  {
   "cell_type": "code",
   "execution_count": 17,
   "metadata": {},
   "outputs": [],
   "source": [
    "import chardet\n"
   ]
  },
  {
   "cell_type": "code",
   "execution_count": null,
   "metadata": {},
   "outputs": [],
   "source": [
    "chardet.detect('your string')"
   ]
  },
  {
   "cell_type": "code",
   "execution_count": 21,
   "metadata": {},
   "outputs": [
    {
     "ename": "TypeError",
     "evalue": "a bytes-like object is required, not 'str'",
     "output_type": "error",
     "traceback": [
      "\u001b[0;31m---------------------------------------------------------------------------\u001b[0m",
      "\u001b[0;31mTypeError\u001b[0m                                 Traceback (most recent call last)",
      "\u001b[0;32m<ipython-input-21-e72cfa968fe5>\u001b[0m in \u001b[0;36m<module>\u001b[0;34m()\u001b[0m\n\u001b[0;32m----> 1\u001b[0;31m \u001b[0mjson\u001b[0m\u001b[0;34m.\u001b[0m\u001b[0mloads\u001b[0m\u001b[0;34m(\u001b[0m\u001b[0mlines\u001b[0m\u001b[0;34m[\u001b[0m\u001b[0;36m0\u001b[0m\u001b[0;34m]\u001b[0m\u001b[0;34m.\u001b[0m\u001b[0msplit\u001b[0m\u001b[0;34m(\u001b[0m\u001b[0;34m' message:'\u001b[0m\u001b[0;34m)\u001b[0m\u001b[0;34m[\u001b[0m\u001b[0;36m1\u001b[0m\u001b[0;34m]\u001b[0m\u001b[0;34m)\u001b[0m\u001b[0;34m\u001b[0m\u001b[0m\n\u001b[0m",
      "\u001b[0;31mTypeError\u001b[0m: a bytes-like object is required, not 'str'"
     ]
    }
   ],
   "source": [
    "json.loads(lines[0].split(' message:')[1])"
   ]
  },
  {
   "cell_type": "code",
   "execution_count": 40,
   "metadata": {},
   "outputs": [],
   "source": [
    "def parse_userid_docid(click_data):\n",
    "    try:\n",
    "        body_str =click_data.decode('utf-8').split('message:')\n",
    "        message = json.loads(body_str[1])\n",
    "    except:\n",
    "        return\n",
    "    \n",
    "    for item in message:\n",
    "        if \"u\" not in item or 'e' not in item:\n",
    "            continue\n",
    "#             if \"id\" in item and item['id'] in ('91XRY1','lN09e3','RMN9XR'):\n",
    "#                 uid_type = 'tsb'\n",
    "#             elif \"id\" in item and item['id'] in ('TV51dh'):\n",
    "#                 uid_type = 'kfpt'\n",
    "#             else:\n",
    "#                 continue\n",
    "\n",
    "        uuid = item['u']\n",
    "        for arrays in item['e']:\n",
    "            if  'n' in arrays and 'ts' in arrays and arrays['n'] in [\"_vvX\",\"_pvX\",\"_svX\",\"_ivX\"] and \\\n",
    "                'du' in arrays and 'kv' in arrays and 'id' in arrays['kv'] and 'column' in arrays['kv'] :\n",
    "                occur_ts = str(arrays['ts'])\n",
    "                du = str(arrays['du'])\n",
    "                docid = str(arrays['kv']['id'])\n",
    "                if ( not docid.startswith('V')) and ( not (len(docid) == 16 and docid[8:12].isdigit())):\n",
    "                    continue\n",
    "                offset = \"\"\n",
    "                sessionid = \"\"\n",
    "                passport = \"\"\n",
    "                if 'p' in arrays:\n",
    "                    passport = device_id_parse(arrays['p'],'neteasemobiledat')\n",
    "\n",
    "                if passport != \"\":\n",
    "                    yield (docid,passport)\n",
    "                yield (docid,uuid)                        \n"
   ]
  },
  {
   "cell_type": "code",
   "execution_count": 41,
   "metadata": {
    "scrolled": true
   },
   "outputs": [],
   "source": [
    "docid_uuid_pair_1 = [list(parse_userid_docid(line)) for line in lines]"
   ]
  },
  {
   "cell_type": "code",
   "execution_count": 42,
   "metadata": {},
   "outputs": [
    {
     "data": {
      "text/plain": [
       "338815"
      ]
     },
     "execution_count": 42,
     "metadata": {},
     "output_type": "execute_result"
    }
   ],
   "source": [
    "sum(len(pair) == 0 for pair in docid_uuid_pair_1)"
   ]
  },
  {
   "cell_type": "code",
   "execution_count": 43,
   "metadata": {},
   "outputs": [
    {
     "data": {
      "text/plain": [
       "3157"
      ]
     },
     "execution_count": 43,
     "metadata": {},
     "output_type": "execute_result"
    }
   ],
   "source": [
    "sum(len(pair) > 1 for pair in docid_uuid_pair_1)"
   ]
  },
  {
   "cell_type": "code",
   "execution_count": 46,
   "metadata": {},
   "outputs": [],
   "source": [
    "docid_uuid_pair = [pair[0] for pair in docid_uuid_pair_1 if pair]"
   ]
  },
  {
   "cell_type": "code",
   "execution_count": 48,
   "metadata": {},
   "outputs": [
    {
     "data": {
      "text/plain": [
       "[('DF4VPU010529AQL6', 'CQlhMTUzMmZjMzAyOGNhMjRkCUFJWVNVR1VTU0tXNEJBR0E%3D'),\n",
       " ('DF1PL6IF0517CHRJ', 'A10000546B3C3B'),\n",
       " ('DD5TLVJ19001LVJ2', 'CQljMDVjZDIyMWFlZjFlMmY5CUE1UjRDMTdDMjUwMDE3MDI%3D'),\n",
       " ('DF4VU2PN0517EM3P', 'CQlhMmU4NjM5ZjA1ZDJiMTMzCVdUS0RVMTY4MTgwMDY4MTk%3D'),\n",
       " ('VLE3GIQ3E', 'CQk4NTNhMTI1MjUwOTNiOTJhCVdUSzdOMTZBMjgwMTI2ODY%3D'),\n",
       " ('VTD71P369', 'CQliMmU1YzI3MDRlYmJiMzMzCTIyZTFmYTVh'),\n",
       " ('DF4GFQBC0001875O', '860904039705613'),\n",
       " ('DF45RE5K0511AQHO', 'CQk5Njc3ZjYzNmVlYTJkNTUzCTc0YmI0YTg3'),\n",
       " ('VHE3GO7O7', 'CQllMjc1MTQxNjM1MTVmMGUzCTljNDY5NDZkN2QzMw%3D%3D'),\n",
       " ('DF4GDG28000187VE', 'CQkxYjg4YzFhM2M5MTBkYmU3CTU5NDlhYjc0')]"
      ]
     },
     "execution_count": 48,
     "metadata": {},
     "output_type": "execute_result"
    }
   ],
   "source": [
    "docid_uuid_pair[:10]"
   ]
  }
 ],
 "metadata": {
  "kernelspec": {
   "display_name": "Python 3",
   "language": "python",
   "name": "python3"
  },
  "language_info": {
   "codemirror_mode": {
    "name": "ipython",
    "version": 3
   },
   "file_extension": ".py",
   "mimetype": "text/x-python",
   "name": "python",
   "nbconvert_exporter": "python",
   "pygments_lexer": "ipython3",
   "version": "3.6.4"
  }
 },
 "nbformat": 4,
 "nbformat_minor": 2
}
